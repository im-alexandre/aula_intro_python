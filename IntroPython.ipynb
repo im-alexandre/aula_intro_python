{
  "nbformat": 4,
  "nbformat_minor": 0,
  "metadata": {
    "colab": {
      "name": "IntroPython.ipynb",
      "provenance": [],
      "collapsed_sections": [
        "6WE15aEjcIJ0"
      ]
    },
    "kernelspec": {
      "name": "python3",
      "display_name": "Python 3"
    }
  },
  "cells": [
    {
      "cell_type": "markdown",
      "metadata": {
        "id": "6Pb-hJW2yNrv",
        "colab_type": "text"
      },
      "source": [
        "# Introdução à programação com Linguagem Python\n",
        "## CT(IM) Alexandre\n",
        "\n",
        "https://github.com/im-alexandre/aula_intro_python\n",
        "\n",
        "\n",
        "\n",
        "\n"
      ]
    },
    {
      "cell_type": "markdown",
      "metadata": {
        "id": "jr3OyKENz22_",
        "colab_type": "text"
      },
      "source": [
        "# Básico de Python"
      ]
    },
    {
      "cell_type": "markdown",
      "metadata": {
        "id": "HPGhHXNF1wHL",
        "colab_type": "text"
      },
      "source": [
        "## Primeiro Programa"
      ]
    },
    {
      "cell_type": "code",
      "metadata": {
        "id": "Hak_MlsisPH6",
        "colab_type": "code",
        "colab": {
          "base_uri": "https://localhost:8080/",
          "height": 36
        },
        "outputId": "612874f3-0c5a-4e8e-edb0-83b753823277"
      },
      "source": [
        "# Isto é um comentário\n",
        "print(\"Hello, World!!!\")"
      ],
      "execution_count": null,
      "outputs": [
        {
          "output_type": "stream",
          "text": [
            "Hello, World!!!\n"
          ],
          "name": "stdout"
        }
      ]
    },
    {
      "cell_type": "markdown",
      "metadata": {
        "id": "ZFQcPUw-1yBK",
        "colab_type": "text"
      },
      "source": [
        "## Variáveis"
      ]
    },
    {
      "cell_type": "code",
      "metadata": {
        "id": "LsTCAdS-0VTN",
        "colab_type": "code",
        "colab": {
          "base_uri": "https://localhost:8080/",
          "height": 129
        },
        "outputId": "9a40927d-7fce-48db-b888-bf1c87828fdd"
      },
      "source": [
        "# Variáveis: Definição e tipos\n",
        "\n",
        "var_texto = \"Hello!\"\n",
        "var_inteira = 9\n",
        "var_decimal = 9.0\n",
        "\n",
        "print(var_texto)\n",
        "print(var_inteira)\n",
        "print(var_decimal)\n",
        "\n",
        "print(type(var_texto))\n",
        "print(type(var_inteira))\n",
        "print(type(var_decimal))"
      ],
      "execution_count": null,
      "outputs": [
        {
          "output_type": "stream",
          "text": [
            "Hello!\n",
            "9\n",
            "9.0\n",
            "<class 'str'>\n",
            "<class 'int'>\n",
            "<class 'float'>\n"
          ],
          "name": "stdout"
        }
      ]
    },
    {
      "cell_type": "code",
      "metadata": {
        "id": "pJrSlM8M0d4P",
        "colab_type": "code",
        "colab": {
          "base_uri": "https://localhost:8080/",
          "height": 92
        },
        "outputId": "81b8b02f-419c-4741-da1d-108039b5ac0c"
      },
      "source": [
        "# Conversões de variáveis\n",
        "\n",
        "print(var_decimal)\n",
        "print(int(var_decimal))          # Conversão para inteira\n",
        "print(str(var_decimal))          # Conversão para texto\n",
        "teste = str(var_decimal)\n",
        "print(type(teste))"
      ],
      "execution_count": null,
      "outputs": [
        {
          "output_type": "stream",
          "text": [
            "9.0\n",
            "9\n",
            "9.0\n",
            "<class 'str'>\n"
          ],
          "name": "stdout"
        }
      ]
    },
    {
      "cell_type": "code",
      "metadata": {
        "id": "VgoVTn6I0jnr",
        "colab_type": "code",
        "colab": {
          "base_uri": "https://localhost:8080/",
          "height": 129
        },
        "outputId": "a144c69e-9217-4158-d0d4-1e607fdd8959"
      },
      "source": [
        "# Operações Aritméticas\n",
        "\n",
        "resultado = var_decimal / 3                     # Operador de divisão (/)\n",
        "segundo_resultado = var_decimal - resultado     # Operador de subtração (-)\n",
        "multiplicacao = var_decimal * 5                 # Operador de multiplicação (*)\n",
        "quadrado = var_decimal ** 2                     # Operador de potência (**)\n",
        "modulo_divisao = var_decimal % 4                # Operador de módulo da divisão (%)\n",
        "modulo = abs(-4)                                # Função de módulo(abs())\n",
        "\n",
        "print(\"resultado = \" + str(resultado))\n",
        "print(\"segundo_resultado = \" + str(segundo_resultado))\n",
        "print(\"multiplicacao = \" + str(multiplicacao))\n",
        "print(\"quadrado = \" + str(quadrado))\n",
        "print(\"modulo_divisao = \" + str(modulo_divisao))\n",
        "print(\"modulo = \" + str(modulo))"
      ],
      "execution_count": null,
      "outputs": [
        {
          "output_type": "stream",
          "text": [
            "resultado = 3.0\n",
            "segundo_resultado = 6.0\n",
            "multiplicacao = 45.0\n",
            "quadrado = 81.0\n",
            "modulo_divisao = 1.0\n",
            "modulo = 4\n"
          ],
          "name": "stdout"
        }
      ]
    },
    {
      "cell_type": "code",
      "metadata": {
        "id": "KXm84FqH082m",
        "colab_type": "code",
        "colab": {
          "base_uri": "https://localhost:8080/",
          "height": 73
        },
        "outputId": "9ce2f513-fcdd-45b3-e89a-ff06d649e4a6"
      },
      "source": [
        "# Incremento e Decremento\n",
        "\n",
        "print(\"var_decimal é igual a: \" + str(var_decimal))\n",
        "\n",
        "var_decimal -= 2\n",
        "print(\"var_decimal -= 2 é igual a: \" + str(var_decimal))\n",
        "\n",
        "var_decimal += 5\n",
        "print(\"var_decimal += 5 é igual a: \" + str(var_decimal))"
      ],
      "execution_count": null,
      "outputs": [
        {
          "output_type": "stream",
          "text": [
            "var_decimal é igual a: 12.0\n",
            "var_decimal -= 2 é igual a: 10.0\n",
            "var_decimal += 5 é igual a: 15.0\n"
          ],
          "name": "stdout"
        }
      ]
    },
    {
      "cell_type": "code",
      "metadata": {
        "id": "JiS7vrGU1Cpr",
        "colab_type": "code",
        "colab": {
          "base_uri": "https://localhost:8080/",
          "height": 54
        },
        "outputId": "b7057025-73d5-497b-858c-4c0e8c4366b2"
      },
      "source": [
        "# Dados Booleanos\n",
        "\n",
        "um = 1\n",
        "dois = 2\n",
        "tres = 3\n",
        "\n",
        "eh_igual = (dois == tres)\n",
        "nao_eh_igual = (dois != tres)\n",
        "\n",
        "print(eh_igual)\n",
        "print(nao_eh_igual)"
      ],
      "execution_count": null,
      "outputs": [
        {
          "output_type": "stream",
          "text": [
            "False\n",
            "True\n"
          ],
          "name": "stdout"
        }
      ]
    },
    {
      "cell_type": "code",
      "metadata": {
        "id": "YyXNEwLg1ZnL",
        "colab_type": "code",
        "colab": {
          "base_uri": "https://localhost:8080/",
          "height": 54
        },
        "outputId": "22bdb59b-39a9-4da6-811e-19c15aabaa18"
      },
      "source": [
        "# Operadores de Comparação\n",
        "\n",
        "print(um < dois < tres)\n",
        "\n",
        "eh_maior = (tres > dois)\n",
        "print(eh_maior)"
      ],
      "execution_count": null,
      "outputs": [
        {
          "output_type": "stream",
          "text": [
            "True\n",
            "True\n"
          ],
          "name": "stdout"
        }
      ]
    },
    {
      "cell_type": "markdown",
      "metadata": {
        "id": "BTEQ7Jkg1oHS",
        "colab_type": "text"
      },
      "source": [
        "## Strings (texto)"
      ]
    },
    {
      "cell_type": "code",
      "metadata": {
        "id": "3r2MgilR1is2",
        "colab_type": "code",
        "colab": {
          "base_uri": "https://localhost:8080/",
          "height": 36
        },
        "outputId": "1624843e-58c0-4559-bf76-ef8371f3e93c"
      },
      "source": [
        "# Concatenação\n",
        "\n",
        "hello = \"Hello\"\n",
        "world = 'World'\n",
        "hello_world = hello + \" \" + world\n",
        "\n",
        "print(hello_world)"
      ],
      "execution_count": null,
      "outputs": [
        {
          "output_type": "stream",
          "text": [
            "Hello World\n"
          ],
          "name": "stdout"
        }
      ]
    },
    {
      "cell_type": "code",
      "metadata": {
        "id": "dIQsp6sR2Dvq",
        "colab_type": "code",
        "colab": {
          "base_uri": "https://localhost:8080/",
          "height": 36
        },
        "outputId": "bc952c1b-14ca-4ea8-cc5b-66cccb9c80e5"
      },
      "source": [
        "# Multiplicação de String por um número\n",
        "variavel_que_recebe_banana = \"banana\"\n",
        "dez_bananas = variavel_que_recebe_banana * 10\n",
        "print(dez_bananas)"
      ],
      "execution_count": null,
      "outputs": [
        {
          "output_type": "stream",
          "text": [
            "bananabananabananabananabananabananabananabananabananabanana\n"
          ],
          "name": "stdout"
        }
      ]
    },
    {
      "cell_type": "code",
      "metadata": {
        "id": "dU--FJa32EK8",
        "colab_type": "code",
        "colab": {
          "base_uri": "https://localhost:8080/",
          "height": 54
        },
        "outputId": "e75360a8-f809-4a7d-ed2a-3c6d7a15045b"
      },
      "source": [
        "# Indexação\n",
        "\n",
        "python = \"Isto é uma string em python!\"\n",
        "\n",
        "# A indexação começa com 0\n",
        "print(python[0])\n",
        "\n",
        "# use -1 para pegar a última letra\n",
        "print(python[-2])"
      ],
      "execution_count": null,
      "outputs": [
        {
          "output_type": "stream",
          "text": [
            "I\n",
            "n\n"
          ],
          "name": "stdout"
        }
      ]
    },
    {
      "cell_type": "code",
      "metadata": {
        "id": "woSPHeHA2CH-",
        "colab_type": "code",
        "colab": {
          "base_uri": "https://localhost:8080/",
          "height": 111
        },
        "outputId": "2ab13fb5-283b-427a-ae90-ced7f842f72d"
      },
      "source": [
        "# Substrings\n",
        "\n",
        "python_developer = \"Desenvolvedor Python\"\n",
        "\n",
        "# string[start:end]\n",
        "print(python_developer[:6])\n",
        "print(python_developer[7:])\n",
        "print(python_developer[4:10])\n",
        "print(python_developer[:])\n",
        "\n",
        "# Operador in\n",
        "sorvete = \"banana\"\n",
        "\n",
        "# checa se a string contem \"cream\"\n",
        "print(\"vete\" in sorvete)"
      ],
      "execution_count": null,
      "outputs": [
        {
          "output_type": "stream",
          "text": [
            "Desenv\n",
            "lvedor Python\n",
            "nvolve\n",
            "Desenvolvedor Python\n",
            "False\n"
          ],
          "name": "stdout"
        }
      ]
    },
    {
      "cell_type": "code",
      "metadata": {
        "id": "cbM5SOHW2h3n",
        "colab_type": "code",
        "cellView": "form",
        "colab": {
          "base_uri": "https://localhost:8080/",
          "height": 298
        },
        "outputId": "386f1f2b-1a58-4d69-be6b-29ad1fc3d4f4"
      },
      "source": [
        "#@title\n",
        "# Tamanho\n",
        "print(len(sorvete))\n",
        "# Escaping\n",
        "\n",
        "print(\"\\\"Doce\\\"\" + sorvete)\n",
        "print('\\\"Doce\\\"' + sorvete)\n",
        "print(\"Doce\\n\" + sorvete) # \\n = nova linha\n",
        "\n",
        "# Maiúsculas e Minúsculas\n",
        "print('\\nMaíusculas e minúsculas:')\n",
        "print(50 * \"-\")\n",
        "print(sorvete.lower())\n",
        "print(sorvete.upper())\n",
        "print(50 * \"-\")\n",
        "\n",
        "# Formatação\n",
        "print('\\nFormatação:')\n",
        "nome = \"Alexandre\"\n",
        "inteiro = 5\n",
        "decimal = 9.0\n",
        "print(\"Olá, meu nome é is %s!\\nMeus números preferidos são:Inteiro(%d) e Decimal(%d)\" % (nome, inteiro, decimal))"
      ],
      "execution_count": null,
      "outputs": [
        {
          "output_type": "stream",
          "text": [
            "6\n",
            "\"Doce\"banana\n",
            "\"Doce\"banana\n",
            "Doce\n",
            "banana\n",
            "\n",
            "Maíusculas e minúsculas:\n",
            "--------------------------------------------------\n",
            "banana\n",
            "BANANA\n",
            "--------------------------------------------------\n",
            "\n",
            "Formatação:\n",
            "Olá, meu nome é is Alexandre!\n",
            "Meus números preferidos são:Inteiro(5) e Decimal(9)\n"
          ],
          "name": "stdout"
        }
      ]
    },
    {
      "cell_type": "markdown",
      "metadata": {
        "id": "FP8eDc063Tvr",
        "colab_type": "text"
      },
      "source": [
        "## Estruturas de Dados"
      ]
    },
    {
      "cell_type": "code",
      "metadata": {
        "id": "TMVhEgzH3VHP",
        "colab_type": "code",
        "colab": {
          "base_uri": "https://localhost:8080/",
          "height": 36
        },
        "outputId": "93c4515d-a383-46f2-e01e-fdf05c5be761"
      },
      "source": [
        "# Listas\n",
        "\n",
        "quadrados = [1, 4, 9, 16, 25]\n",
        "print(quadrados)"
      ],
      "execution_count": null,
      "outputs": [
        {
          "output_type": "stream",
          "text": [
            "[1, 4, 9, 16, 25]\n"
          ],
          "name": "stdout"
        }
      ]
    },
    {
      "cell_type": "code",
      "metadata": {
        "id": "gTFmI_2y3n9F",
        "colab_type": "code",
        "colab": {
          "base_uri": "https://localhost:8080/",
          "height": 204
        },
        "outputId": "ee765c54-4019-4b56-afe5-12f235efc098"
      },
      "source": [
        "# Operações de Listas\n",
        "\n",
        "animais = ['elefante', 'leão', 'Tigre', \"Girafa\"]\n",
        "print('animais')\n",
        "print(animais)\n",
        "# incluir 2 itens na lista\n",
        "print(50 * '-')\n",
        "\n",
        "print('\\nincluir itens na lista')\n",
        "animais += [\"macaco\", 'cachorro']\n",
        "print(animais)\n",
        "\n",
        "# incluir 1 item na lista usando append\n",
        "print(50 * '-')\n",
        "print('\\nincluir 1 item na lista usando append')\n",
        "animais.append(\"dinossauro\")\n",
        "print(animais)"
      ],
      "execution_count": null,
      "outputs": [
        {
          "output_type": "stream",
          "text": [
            "animais\n",
            "['elefante', 'leão', 'Tigre', 'Girafa']\n",
            "--------------------------------------------------\n",
            "\n",
            "incluir itens na lista\n",
            "['elefante', 'leão', 'Tigre', 'Girafa', 'macaco', 'cachorro']\n",
            "--------------------------------------------------\n",
            "\n",
            "incluir 1 item na lista usando append\n",
            "['elefante', 'leão', 'Tigre', 'Girafa', 'macaco', 'cachorro', 'dinossauro']\n"
          ],
          "name": "stdout"
        }
      ]
    },
    {
      "cell_type": "code",
      "metadata": {
        "id": "E_pyA6WL3oD-",
        "colab_type": "code",
        "colab": {
          "base_uri": "https://localhost:8080/",
          "height": 204
        },
        "outputId": "c26e28c0-860c-4ed9-c5cf-3f3ff8772003"
      },
      "source": [
        "# Itens de uma lista\n",
        "print('Itens da lista:')\n",
        "print(animais)\n",
        "# substituir 2 itens -- 'lion' e 'tiger' por um item -- 'cat'\n",
        "# Índices iniciam no 0 (zero)\n",
        "print(50 * '-')\n",
        "print('\\nsubstituir 2 itens:')\n",
        "animais[1:3] = ['gato']\n",
        "print(animais)\n",
        "\n",
        "# remover 2 itens -- 'gato' e 'girafa' da lista\n",
        "print(50 * '-')\n",
        "print('\\nremover 2 itens:')\n",
        "animais[1:3] = []\n",
        "print(animais)"
      ],
      "execution_count": null,
      "outputs": [
        {
          "output_type": "stream",
          "text": [
            "Itens da lista:\n",
            "['elefante', 'leão', 'Tigre', 'Girafa', 'macaco', 'cachorro', 'dinossauro']\n",
            "--------------------------------------------------\n",
            "\n",
            "substituir 2 itens:\n",
            "['elefante', 'gato', 'Girafa', 'macaco', 'cachorro', 'dinossauro']\n",
            "--------------------------------------------------\n",
            "\n",
            "remover 2 itens:\n",
            "['elefante', 'macaco', 'cachorro', 'dinossauro']\n"
          ],
          "name": "stdout"
        }
      ]
    },
    {
      "cell_type": "code",
      "metadata": {
        "id": "-YQlCOCB3oQB",
        "colab_type": "code",
        "colab": {
          "base_uri": "https://localhost:8080/",
          "height": 36
        },
        "outputId": "625853cf-ea88-456f-fe03-5a5ac35e8f0b"
      },
      "source": [
        "# Tuplas: listas imutáveis, não é possível adicionar, alterar ou deletar itens de tuplas\n",
        "\n",
        "alfabeto = ('a', 'b', 'c', 'd', 'e', 'f', 'g', 'h', 'i', 'j', 'k', 'l', 'm', 'n', 'o',\n",
        "            'p', 'q', 'r', 's', 't', 'u', 'v', 'w', 'x', 'y', 'z')\n",
        "\n",
        "# alfabeto[4:10] = [] # Erro: Objeto tupla não aceita atribuição de itens\n",
        "print(alfabeto)"
      ],
      "execution_count": null,
      "outputs": [
        {
          "output_type": "stream",
          "text": [
            "('a', 'b', 'c', 'd', 'e', 'f', 'g', 'h', 'i', 'j', 'k', 'l', 'm', 'n', 'o', 'p', 'q', 'r', 's', 't', 'u', 'v', 'w', 'x', 'y', 'z')\n"
          ],
          "name": "stdout"
        }
      ]
    },
    {
      "cell_type": "code",
      "metadata": {
        "id": "usigjuhB3oYz",
        "colab_type": "code",
        "colab": {
          "base_uri": "https://localhost:8080/",
          "height": 354
        },
        "outputId": "9bc5703b-b070-4f8f-ac7c-2dc400444f45"
      },
      "source": [
        "# Dicionários: coleções desordenadas, mutáveis e indexadas, com chaves e valores.\n",
        "\n",
        "contatos = {\"John\": 123, \"Jane\": 234, \"Jerard\": 345}\n",
        "print('Dicionário de contatos:')\n",
        "print(contatos)\n",
        "print(50 * '-')\n",
        "\n",
        "# incluir novo item no dicionário\n",
        "print('\\nincluir novo item no dicionário')\n",
        "contatos[\"Jill\"] = 345\n",
        "print(contatos)\n",
        "print(50 * '-')\n",
        "\n",
        "# remover par chave-valor de contatos\n",
        "print('\\nremover par chave-valor de contatos: ')\n",
        "del contatos['John']\n",
        "print(contatos)\n",
        "print(50 * '-')\n",
        "\n",
        "# ler um valor chave específico\n",
        "print('\\nler um valor chave específico: ')\n",
        "print(\"O telefone dá Jill é: %s\" % (contatos[\"Jill\"]))\n",
        "print(50 * '-')\n",
        "\n",
        "# checar se contatos contém o item \"Jane\"\n",
        "print('\\nchecar se contatos contém o item \"Jane\": ')\n",
        "print(\"Jane\" in contatos)"
      ],
      "execution_count": null,
      "outputs": [
        {
          "output_type": "stream",
          "text": [
            "Dicionário de contatos:\n",
            "{'John': 123, 'Jane': 234, 'Jerard': 345}\n",
            "--------------------------------------------------\n",
            "\n",
            "incluir novo item no dicionário\n",
            "{'John': 123, 'Jane': 234, 'Jerard': 345, 'Jill': 345}\n",
            "--------------------------------------------------\n",
            "\n",
            "remover par chave-valor de contatos: \n",
            "{'Jane': 234, 'Jerard': 345, 'Jill': 345}\n",
            "--------------------------------------------------\n",
            "\n",
            "ler um valor chave específico: \n",
            "O telefone dá Jill é: 345\n",
            "--------------------------------------------------\n",
            "\n",
            "checar se contatos contém o item \"Jane\": \n",
            "True\n"
          ],
          "name": "stdout"
        }
      ]
    },
    {
      "cell_type": "markdown",
      "metadata": {
        "id": "FgvuadFJ44he",
        "colab_type": "text"
      },
      "source": [
        "## Condições"
      ]
    },
    {
      "cell_type": "code",
      "metadata": {
        "id": "8pB9PYsf49My",
        "colab_type": "code",
        "colab": {
          "base_uri": "https://localhost:8080/",
          "height": 129
        },
        "outputId": "2c6bb48d-bf56-4a39-e248-c251b6f947f0"
      },
      "source": [
        "# Expressões booleanas\n",
        "\n",
        "name = \"John\"\n",
        "age = 17\n",
        "\n",
        "# checa se name é igual a \"John\" OU age é igual a 17\n",
        "print('checa se name é igual a \"John\" OU age é igual a 17')\n",
        "nome_eh_john = (name == \"John\")\n",
        "idade_eh_dezessete = (age == 17)\n",
        "print(nome_eh_john or idade_eh_dezessete)\n",
        "print(50 * '-')\n",
        "\n",
        "# ordem dos operadores: NOT é o primeiro, em seguida AND, depois OR\n",
        "# NA DÚVIDA, SEMPRE UTILIZE PARÊNTESES\n",
        "print()\n",
        "print((name == \"John\") or (not (age > 16)))\n",
        "print((name == \"John\") and (not (age > 16)))\n"
      ],
      "execution_count": null,
      "outputs": [
        {
          "output_type": "stream",
          "text": [
            "checa se name é igual a \"John\" OU age é igual a 17\n",
            "True\n",
            "--------------------------------------------------\n",
            "\n",
            "True\n",
            "False\n"
          ],
          "name": "stdout"
        }
      ]
    },
    {
      "cell_type": "code",
      "metadata": {
        "id": "t1h12KiknBTw",
        "colab_type": "code",
        "colab": {
          "base_uri": "https://localhost:8080/",
          "height": 410
        },
        "outputId": "ba3571b2-5dd6-439d-fe0f-03732b7b831b"
      },
      "source": [
        "# zen do python\n",
        "import this"
      ],
      "execution_count": null,
      "outputs": [
        {
          "output_type": "stream",
          "text": [
            "The Zen of Python, by Tim Peters\n",
            "\n",
            "Beautiful is better than ugly.\n",
            "Explicit is better than implicit.\n",
            "Simple is better than complex.\n",
            "Complex is better than complicated.\n",
            "Flat is better than nested.\n",
            "Sparse is better than dense.\n",
            "Readability counts.\n",
            "Special cases aren't special enough to break the rules.\n",
            "Although practicality beats purity.\n",
            "Errors should never pass silently.\n",
            "Unless explicitly silenced.\n",
            "In the face of ambiguity, refuse the temptation to guess.\n",
            "There should be one-- and preferably only one --obvious way to do it.\n",
            "Although that way may not be obvious at first unless you're Dutch.\n",
            "Now is better than never.\n",
            "Although never is often better than *right* now.\n",
            "If the implementation is hard to explain, it's a bad idea.\n",
            "If the implementation is easy to explain, it may be a good idea.\n",
            "Namespaces are one honking great idea -- let's do more of those!\n"
          ],
          "name": "stdout"
        }
      ]
    },
    {
      "cell_type": "code",
      "metadata": {
        "id": "zc7SmL9B5Rkk",
        "colab_type": "code",
        "colab": {
          "base_uri": "https://localhost:8080/",
          "height": 73
        },
        "outputId": "03deb85f-3523-4645-cfad-7e3557ab53c6"
      },
      "source": [
        "# Comandos if, elif e else\n",
        "\n",
        "if (name == \"John\" or age == 17):\n",
        "  print(\"O nome é %s\" % name)\n",
        "  print(\"%s tem %d anos\" % (name, age))\n",
        "\n",
        "task = [\"tarefa 1\", \"tarefa 2\"]\n",
        "#length\n",
        "if (len(task) == 0):\n",
        "  print(\"Lista vazia\")\n",
        "elif (len(task) == 1):\n",
        "    print(\"Só tem um registro\")\n",
        "else:\n",
        "  print(\"A lista possui %d registros\" % len(task))"
      ],
      "execution_count": null,
      "outputs": [
        {
          "output_type": "stream",
          "text": [
            "O nome é John\n",
            "John tem 17 anos\n",
            "A lista possui 2 registros\n"
          ],
          "name": "stdout"
        }
      ]
    },
    {
      "cell_type": "markdown",
      "metadata": {
        "id": "eVsm3csc5eN7",
        "colab_type": "text"
      },
      "source": [
        "## Loops"
      ]
    },
    {
      "cell_type": "code",
      "metadata": {
        "id": "Qu5LEeRb5uPf",
        "colab_type": "code",
        "colab": {
          "base_uri": "https://localhost:8080/",
          "height": 223
        },
        "outputId": "d8a6fc6e-11a9-4a49-bd1b-787a5983d96d"
      },
      "source": [
        "# Loop for\n",
        "for i in range(0, 5):\n",
        "  print(i)\n",
        "\n",
        "print(50*'-' + '\\n')\n",
        "primes = [2, 3, 5, 7]\n",
        "for i in primes:\n",
        "  print(\"index %d \" % i)"
      ],
      "execution_count": null,
      "outputs": [
        {
          "output_type": "stream",
          "text": [
            "0\n",
            "1\n",
            "2\n",
            "3\n",
            "4\n",
            "--------------------------------------------------\n",
            "\n",
            "index 2 \n",
            "index 3 \n",
            "index 5 \n",
            "index 7 \n"
          ],
          "name": "stdout"
        }
      ]
    },
    {
      "cell_type": "code",
      "metadata": {
        "id": "VcECdMpc6DHB",
        "colab_type": "code",
        "colab": {
          "base_uri": "https://localhost:8080/",
          "height": 372
        },
        "outputId": "f50c9ab0-8626-48d0-d0ce-6a7a2345879d"
      },
      "source": [
        "# Loop for usando string\n",
        "\n",
        "hello_world = \"Hello, World!\"\n",
        "\n",
        "# imprimir cada caracter\n",
        "print('imprimir cada caracter: ')\n",
        "\n",
        "for caracter in hello_world:\n",
        "  print(caracter)\n",
        "\n",
        "print(50*'-' + '\\n')\n",
        "\n",
        "\n",
        "# contar a quantidade de caracteres usando loop\n",
        "print('contar a quantidade de caracteres usando loop: ')\n",
        "print(len(hello_world))\n",
        "length = 0\n",
        "for ch in hello_world:\n",
        "  length += 1\n",
        "\n",
        "print(\"Número de caracteres é %d \" % length)\n"
      ],
      "execution_count": null,
      "outputs": [
        {
          "output_type": "stream",
          "text": [
            "imprimir cada caracter: \n",
            "H\n",
            "e\n",
            "l\n",
            "l\n",
            "o\n",
            ",\n",
            " \n",
            "W\n",
            "o\n",
            "r\n",
            "l\n",
            "d\n",
            "!\n",
            "--------------------------------------------------\n",
            "\n",
            "contar a quantidade de caracteres usando loop: \n",
            "13\n",
            "Número de caracteres é 13 \n"
          ],
          "name": "stdout"
        }
      ]
    },
    {
      "cell_type": "code",
      "metadata": {
        "id": "Y-0HBHCN6DT8",
        "colab_type": "code",
        "colab": {
          "base_uri": "https://localhost:8080/",
          "height": 485
        },
        "outputId": "319c9119-ad93-404f-846a-25553486b52f"
      },
      "source": [
        "# Loop While\n",
        "numero = 1\n",
        "quadrado = 1\n",
        "\n",
        "# imprimir de 1 a 10\n",
        "print('imprimir de 1 a 10: ')\n",
        "while numero <= 10:\n",
        "  print(numero)\n",
        "  numero += 1\n",
        "\n",
        "print(50*'-' + '\\n')\n",
        "\n",
        "# imprimir os quadrados menores que cem\n",
        "print('imprimir os quadrados menores que cem')\n",
        "numero = 1\n",
        "quadrado = 1\n",
        "while quadrado < 100:\n",
        "  quadrado = numero ** 2\n",
        "  print(\"quadrado: %d\" % quadrado)\n",
        "  numero += 1\n",
        "\n",
        "print(numero)\n",
        "while True:\n",
        "  print(1)"
      ],
      "execution_count": null,
      "outputs": [
        {
          "output_type": "stream",
          "text": [
            "imprimir de 1 a 10: \n",
            "1\n",
            "2\n",
            "3\n",
            "4\n",
            "5\n",
            "6\n",
            "7\n",
            "8\n",
            "9\n",
            "10\n",
            "--------------------------------------------------\n",
            "\n",
            "imprimir os quadrados menores que cem\n",
            "quadrado: 1\n",
            "quadrado: 4\n",
            "quadrado: 9\n",
            "quadrado: 16\n",
            "quadrado: 25\n",
            "quadrado: 36\n",
            "quadrado: 49\n",
            "quadrado: 64\n",
            "quadrado: 81\n",
            "quadrado: 100\n",
            "11\n"
          ],
          "name": "stdout"
        }
      ]
    },
    {
      "cell_type": "code",
      "metadata": {
        "id": "iXJbCABu6DQi",
        "colab_type": "code",
        "cellView": "form",
        "colab": {
          "base_uri": "https://localhost:8080/",
          "height": 335
        },
        "outputId": "c7b1eddd-ce3e-4599-c888-0ad5fff2ec25"
      },
      "source": [
        "#@title\n",
        "# Break\n",
        "\n",
        "count = 0\n",
        "\n",
        "# loop infinito - nunca é False\n",
        "while True:\n",
        "  print(count)\n",
        "  count += 1\n",
        "  if count >= 5:\n",
        "    # sai do loop\n",
        "    break\n",
        "\n",
        "zoo = [\"lion\", 'tiger', 'elephant']\n",
        "\n",
        "# loop infinito - nunca é False\n",
        "while True:\n",
        "  # pop: retorna o último item da lista\n",
        "  animal = zoo.pop()\n",
        "  print(animal)\n",
        "  if animal == \"lion\":\n",
        "    break;\n",
        "# Continue\n",
        "\n",
        "for i in range(5):\n",
        "  if i == 3:\n",
        "     # pula o resto do código e move para a próxima iteração do loop\n",
        "     continue\n",
        "  print(i)\n",
        "\n",
        "# imprimir somente os ímpares\n",
        "for x in range(10):\n",
        "  if (x % 2) == 0:\n",
        "    # pula print(x) para este loop\n",
        "      continue\n",
        "  print(\"event number %d\" % x)"
      ],
      "execution_count": null,
      "outputs": [
        {
          "output_type": "stream",
          "text": [
            "0\n",
            "1\n",
            "2\n",
            "3\n",
            "4\n",
            "elephant\n",
            "tiger\n",
            "lion\n",
            "0\n",
            "1\n",
            "2\n",
            "4\n",
            "event number 1\n",
            "event number 3\n",
            "event number 5\n",
            "event number 7\n",
            "event number 9\n"
          ],
          "name": "stdout"
        }
      ]
    },
    {
      "cell_type": "markdown",
      "metadata": {
        "id": "MSdvc_x67Ji-",
        "colab_type": "text"
      },
      "source": [
        "## Funções"
      ]
    },
    {
      "cell_type": "code",
      "metadata": {
        "id": "s90NU2mX7Krn",
        "colab_type": "code",
        "colab": {
          "base_uri": "https://localhost:8080/",
          "height": 204
        },
        "outputId": "e761caaa-f6a4-4311-82b7-c1a0b4045cbb"
      },
      "source": [
        "# Definição de funções\n",
        "\n",
        "# definir uma função chamada hello_world\n",
        "def hello_world():\n",
        "  print(\"Hello, World!\")\n",
        "  print('x')\n",
        "\n",
        "# chamar a função 5 vezes\n",
        "for i in range(5):\n",
        "  hello_world()"
      ],
      "execution_count": null,
      "outputs": [
        {
          "output_type": "stream",
          "text": [
            "Hello, World!\n",
            "x\n",
            "Hello, World!\n",
            "x\n",
            "Hello, World!\n",
            "x\n",
            "Hello, World!\n",
            "x\n",
            "Hello, World!\n",
            "x\n"
          ],
          "name": "stdout"
        }
      ]
    },
    {
      "cell_type": "code",
      "metadata": {
        "id": "2V0gj8WR7sqw",
        "colab_type": "code",
        "colab": {
          "base_uri": "https://localhost:8080/",
          "height": 36
        },
        "outputId": "bb6339d8-4cf0-4ae2-8825-604492ed2feb"
      },
      "source": [
        "# Funções com parâmetros e argumentos\n",
        "\n",
        "# x é um parâmetro\n",
        "def func(x):\n",
        "  print(\"x = %d\" % x)\n",
        "\n",
        "# passar 5 como parâmetro da função. Aqui, 5 é um argumento.\n",
        "func(5)"
      ],
      "execution_count": null,
      "outputs": [
        {
          "output_type": "stream",
          "text": [
            "x = 5\n"
          ],
          "name": "stdout"
        }
      ]
    },
    {
      "cell_type": "code",
      "metadata": {
        "id": "3mKcdhL17sv_",
        "colab_type": "code",
        "colab": {
          "base_uri": "https://localhost:8080/",
          "height": 36
        },
        "outputId": "60d276c8-edb9-423b-db9f-70167cd0f239"
      },
      "source": [
        "# Funções com retorno\n",
        "\n",
        "# função que retorna a soma de dois números\n",
        "def soma_dois_numeros(a, b):\n",
        "  return a + b\n",
        "\n",
        "c = soma_dois_numeros(3, 12)\n",
        "print(\"c = %d\" % c)"
      ],
      "execution_count": null,
      "outputs": [
        {
          "output_type": "stream",
          "text": [
            "c = 15\n"
          ],
          "name": "stdout"
        }
      ]
    },
    {
      "cell_type": "code",
      "metadata": {
        "id": "UEMy-AyA7s1I",
        "colab_type": "code",
        "cellView": "form",
        "colab": {
          "base_uri": "https://localhost:8080/",
          "height": 54
        },
        "outputId": "c05001e4-ebf7-4e34-d0a3-c832e99abfaf"
      },
      "source": [
        "#@title\n",
        "# Função com parâmetros default\n",
        "\n",
        "def multiply_by(a, b=2):\n",
        "  return a * b\n",
        "\n",
        "print(multiply_by(3, 47))\n",
        "\n",
        "# podemos passar apenas um argumento\n",
        "print(multiply_by(3))"
      ],
      "execution_count": null,
      "outputs": [
        {
          "output_type": "stream",
          "text": [
            "141\n",
            "6\n"
          ],
          "name": "stdout"
        }
      ]
    },
    {
      "cell_type": "markdown",
      "metadata": {
        "id": "Bu0hscz_77rA",
        "colab_type": "text"
      },
      "source": [
        "## Classes e Objetos"
      ]
    },
    {
      "cell_type": "code",
      "metadata": {
        "id": "llHtIXU9825j",
        "colab_type": "code",
        "colab": {
          "base_uri": "https://localhost:8080/",
          "height": 185
        },
        "outputId": "93cba267-d252-4faa-81a3-89211be9ab42"
      },
      "source": [
        "# Definição de classes\n",
        "\n",
        "class Carro:\n",
        "  cor = \"\"\n",
        "  def descricao(self):\n",
        "    texto_descricao = \"Isto é um carro %s.\" % self.cor\n",
        "    return texto_descricao\n",
        "\n",
        "print('Criando o primeiro carro: \\n')\n",
        "carro_do_alexandre = Carro()\n",
        "carro_do_alexandre.cor = \"azul\"\n",
        "print(carro_do_alexandre.descricao())\n",
        "print('\\n' + 50*'-' + '\\n')\n",
        "\n",
        "print('Criando o segundo carro: \\n')\n",
        "carro2 = Carro()\n",
        "carro2.cor = \"vermelho\"\n",
        "print(carro2.descricao())"
      ],
      "execution_count": null,
      "outputs": [
        {
          "output_type": "stream",
          "text": [
            "Criando o primeiro carro: \n",
            "\n",
            "Isto é um carro azul.\n",
            "\n",
            "--------------------------------------------------\n",
            "\n",
            "Criando o segundo carro: \n",
            "\n",
            "Isto é um carro vermelho.\n"
          ],
          "name": "stdout"
        }
      ]
    },
    {
      "cell_type": "code",
      "metadata": {
        "id": "v_T1prY98k8Q",
        "colab_type": "code",
        "cellView": "form",
        "colab": {
          "base_uri": "https://localhost:8080/",
          "height": 148
        },
        "outputId": "9a568bc1-6905-4572-f91d-98e806b933d8"
      },
      "source": [
        "#@title\n",
        "# Definição de classes - Exemplo 1\n",
        "\n",
        "class MyClass:\n",
        "  variable1 = 1\n",
        "  variable2 = 1\n",
        "\n",
        "  def foo(self):\n",
        "      # (explcaremos self depois)\n",
        "      print(\"Hello from function foo\")\n",
        "\n",
        "# a variável my_object guarda um objeto da classe \"MyClass\", que contém variable1, variable2 e foo\n",
        "my_object = MyClass()\n",
        "# a variável my_object1 guarda OUTRO objeto da classe \"MyClass\", que contém variable1, variable2 e foo\n",
        "my_object1 = MyClass()\n",
        "\n",
        "# mudar o valor de variable2 em my_object, my_object1 continua inalterado\n",
        "my_object.variable2 = 3\n",
        "\n",
        "print(my_object.variable1)\n",
        "print(my_object1.variable1)\n",
        "\n",
        "print(my_object.variable2)\n",
        "print(my_object1.variable2)\n",
        "\n",
        "my_object.foo()\n",
        "my_object1.foo()\n",
        "# Parâmetro self\n",
        "\n",
        "# \"self\" é o primeiro parâmetro passado para qualquer método de classe\n",
        "# Python usará \"self\" para referenciar o objeto que está sendo criado\n",
        "class Calculator:\n",
        "  current = 5\n",
        "\n",
        "  def add(self, amount):\n",
        "    # não podemos chamar a variável \"current\" sem \"self\" porque \"current\" é uma variável da classe Calculator\n",
        "    return self.current + amount;\n",
        "\n",
        "total = Calculator()\n",
        "print(\"total = %d\" % total.add(3))"
      ],
      "execution_count": null,
      "outputs": [
        {
          "output_type": "stream",
          "text": [
            "1\n",
            "1\n",
            "3\n",
            "1\n",
            "Hello from function foo\n",
            "Hello from function foo\n",
            "total = 8\n"
          ],
          "name": "stdout"
        }
      ]
    },
    {
      "cell_type": "markdown",
      "metadata": {
        "id": "3VNr-wmhYRyJ",
        "colab_type": "text"
      },
      "source": [
        "## Leitura e escrita de arquivos"
      ]
    },
    {
      "cell_type": "code",
      "metadata": {
        "id": "mj0JkVkiAKQF",
        "colab_type": "code",
        "colab": {
          "base_uri": "https://localhost:8080/",
          "height": 36
        },
        "outputId": "065ecf7b-e7fb-4944-838d-c74bceab46d9"
      },
      "source": [
        "zoologico = ['leao', \"elefante\", 'macaco']\n",
        "\n",
        "# Escrita de um arquivo\n",
        "\n",
        "# Abrir o arquivo em modo de escrita (\"w\" para escrita)\n",
        "f = open(\"arquivo.txt\", \"w\")\n",
        "\n",
        "# escrever no arquivo\n",
        "for animal in zoologico:\n",
        "  f.writelines(animal + \" \")\n",
        "\n",
        "# fechar o arquivo\n",
        "f.close()\n",
        "\n",
        "\n",
        "# Leitura de um arquivo\n",
        "\n",
        "# Abrir o arquivo em modo de leitura (\"r\" para leitura)\n",
        "f = open(\"arquivo.txt\", \"r\")\n",
        "\n",
        "# ler apenas a primeira linha\n",
        "for linha in f.readlines():\n",
        "  print(linha)\n",
        "\n",
        "# fechar o arquivo\n",
        "f.close()"
      ],
      "execution_count": null,
      "outputs": [
        {
          "output_type": "stream",
          "text": [
            "leao elefante macaco \n"
          ],
          "name": "stdout"
        }
      ]
    },
    {
      "cell_type": "markdown",
      "metadata": {
        "id": "6WE15aEjcIJ0",
        "colab_type": "text"
      },
      "source": [
        "## SQL com SQLite"
      ]
    },
    {
      "cell_type": "code",
      "metadata": {
        "id": "sB8mVUaicJvh",
        "colab_type": "code",
        "colab": {
          "base_uri": "https://localhost:8080/",
          "height": 36
        },
        "outputId": "d64dda35-b2a2-434c-e106-cee04f5c5c31"
      },
      "source": [
        "# importação da bibloteca do SQLite\n",
        "import sqlite3\n",
        "\n",
        "# criar conexão (irá criar ou abrir o arquivo .db do banco de dados)\n",
        "con = sqlite3.connect(\"carsdb.db\")\n",
        "\n",
        "# o cursor permite percorrer os registros de um banco de dados\n",
        "c = con.cursor()\n",
        "\n",
        "# criar uma tabela\n",
        "c.execute(\"create table if not exists cars(brand text, price text)\")\n",
        "\n",
        "# inserir registros na tabela\n",
        "c.execute(\"insert into cars (brand, price) values ('bmw', 3000)\")\n",
        "c.execute(\"insert into cars (brand, price) values ('ethios', 1000)\")\n",
        "\n",
        "# executar select * na tabela\n",
        "result = c.execute(\"select * from cars\")\n",
        "\n",
        "# imprimir a primeira linha do select\n",
        "print(result.fetchone())\n",
        "\n",
        "# fechar a conexão\n",
        "con.close()"
      ],
      "execution_count": null,
      "outputs": [
        {
          "output_type": "stream",
          "text": [
            "('bmw', '3000')\n"
          ],
          "name": "stdout"
        }
      ]
    },
    {
      "cell_type": "markdown",
      "metadata": {
        "id": "O-IPi4G42rj4",
        "colab_type": "text"
      },
      "source": [
        "# Pandas (o excel do python)"
      ]
    },
    {
      "cell_type": "markdown",
      "metadata": {
        "id": "O_sPsKXZRM15",
        "colab_type": "text"
      },
      "source": [
        "https://pandas.pydata.org/ \n",
        "\n",
        "Biblioteca para manipulação de dados estruturados ou tabulares, que oferece funcionalidade de indexação que permite o \"slice and dice\", agregações e seleção de subsets de dados.\n",
        "\n",
        "É excelente para pré-processamento de dados e tem como estruturas principais *series* e *dataframes*."
      ]
    },
    {
      "cell_type": "code",
      "metadata": {
        "id": "dN2Y6sux5YEC",
        "colab_type": "code",
        "cellView": "code",
        "colab": {}
      },
      "source": [
        "#@title Importação de código de terceiros\n",
        "# A palavra reservada \"as\" serve para atribuir um alias (apelido) para o módulo\n",
        "\n",
        "import numpy as np\n",
        "import pandas as pd"
      ],
      "execution_count": null,
      "outputs": []
    },
    {
      "cell_type": "code",
      "metadata": {
        "id": "2nx6G9CEksqV",
        "colab_type": "code",
        "cellView": "code",
        "colab": {}
      },
      "source": [
        "#@title Abrindo tabelas com pandas\n",
        "# url a importar\n",
        "url_dados = 'https://archive.ics.uci.edu/ml/machine-learning-databases/iris/iris.data'\n",
        "# labels dos atributos do dataset\n",
        "atributos = ['comprimento_sepala', 'largura_sepala', 'comprimento_petala', 'largura_petala', 'especie']\n",
        "# carga do dataset através do csv\n",
        "iris = pd.read_csv(url_dados, names=atributos)\n",
        "iris.to_excel('iris.xlsx')"
      ],
      "execution_count": null,
      "outputs": []
    },
    {
      "cell_type": "code",
      "metadata": {
        "id": "QxTVqxsWxiFr",
        "colab_type": "code",
        "colab": {
          "base_uri": "https://localhost:8080/",
          "height": 423
        },
        "outputId": "4caf0d2a-9312-4654-ff35-cba06c8d3cdc"
      },
      "source": [
        "iris"
      ],
      "execution_count": null,
      "outputs": [
        {
          "output_type": "execute_result",
          "data": {
            "text/html": [
              "<div>\n",
              "<style scoped>\n",
              "    .dataframe tbody tr th:only-of-type {\n",
              "        vertical-align: middle;\n",
              "    }\n",
              "\n",
              "    .dataframe tbody tr th {\n",
              "        vertical-align: top;\n",
              "    }\n",
              "\n",
              "    .dataframe thead th {\n",
              "        text-align: right;\n",
              "    }\n",
              "</style>\n",
              "<table border=\"1\" class=\"dataframe\">\n",
              "  <thead>\n",
              "    <tr style=\"text-align: right;\">\n",
              "      <th></th>\n",
              "      <th>comprimento_sepala</th>\n",
              "      <th>largura_sepala</th>\n",
              "      <th>comprimento_petala</th>\n",
              "      <th>largura_petala</th>\n",
              "      <th>especie</th>\n",
              "    </tr>\n",
              "  </thead>\n",
              "  <tbody>\n",
              "    <tr>\n",
              "      <th>0</th>\n",
              "      <td>5.1</td>\n",
              "      <td>3.5</td>\n",
              "      <td>1.4</td>\n",
              "      <td>0.2</td>\n",
              "      <td>Iris-setosa</td>\n",
              "    </tr>\n",
              "    <tr>\n",
              "      <th>1</th>\n",
              "      <td>4.9</td>\n",
              "      <td>3.0</td>\n",
              "      <td>1.4</td>\n",
              "      <td>0.2</td>\n",
              "      <td>Iris-setosa</td>\n",
              "    </tr>\n",
              "    <tr>\n",
              "      <th>2</th>\n",
              "      <td>4.7</td>\n",
              "      <td>3.2</td>\n",
              "      <td>1.3</td>\n",
              "      <td>0.2</td>\n",
              "      <td>Iris-setosa</td>\n",
              "    </tr>\n",
              "    <tr>\n",
              "      <th>3</th>\n",
              "      <td>4.6</td>\n",
              "      <td>3.1</td>\n",
              "      <td>1.5</td>\n",
              "      <td>0.2</td>\n",
              "      <td>Iris-setosa</td>\n",
              "    </tr>\n",
              "    <tr>\n",
              "      <th>4</th>\n",
              "      <td>5.0</td>\n",
              "      <td>3.6</td>\n",
              "      <td>1.4</td>\n",
              "      <td>0.2</td>\n",
              "      <td>Iris-setosa</td>\n",
              "    </tr>\n",
              "    <tr>\n",
              "      <th>...</th>\n",
              "      <td>...</td>\n",
              "      <td>...</td>\n",
              "      <td>...</td>\n",
              "      <td>...</td>\n",
              "      <td>...</td>\n",
              "    </tr>\n",
              "    <tr>\n",
              "      <th>145</th>\n",
              "      <td>6.7</td>\n",
              "      <td>3.0</td>\n",
              "      <td>5.2</td>\n",
              "      <td>2.3</td>\n",
              "      <td>Iris-virginica</td>\n",
              "    </tr>\n",
              "    <tr>\n",
              "      <th>146</th>\n",
              "      <td>6.3</td>\n",
              "      <td>2.5</td>\n",
              "      <td>5.0</td>\n",
              "      <td>1.9</td>\n",
              "      <td>Iris-virginica</td>\n",
              "    </tr>\n",
              "    <tr>\n",
              "      <th>147</th>\n",
              "      <td>6.5</td>\n",
              "      <td>3.0</td>\n",
              "      <td>5.2</td>\n",
              "      <td>2.0</td>\n",
              "      <td>Iris-virginica</td>\n",
              "    </tr>\n",
              "    <tr>\n",
              "      <th>148</th>\n",
              "      <td>6.2</td>\n",
              "      <td>3.4</td>\n",
              "      <td>5.4</td>\n",
              "      <td>2.3</td>\n",
              "      <td>Iris-virginica</td>\n",
              "    </tr>\n",
              "    <tr>\n",
              "      <th>149</th>\n",
              "      <td>5.9</td>\n",
              "      <td>3.0</td>\n",
              "      <td>5.1</td>\n",
              "      <td>1.8</td>\n",
              "      <td>Iris-virginica</td>\n",
              "    </tr>\n",
              "  </tbody>\n",
              "</table>\n",
              "<p>150 rows × 5 columns</p>\n",
              "</div>"
            ],
            "text/plain": [
              "     comprimento_sepala  largura_sepala  ...  largura_petala         especie\n",
              "0                   5.1             3.5  ...             0.2     Iris-setosa\n",
              "1                   4.9             3.0  ...             0.2     Iris-setosa\n",
              "2                   4.7             3.2  ...             0.2     Iris-setosa\n",
              "3                   4.6             3.1  ...             0.2     Iris-setosa\n",
              "4                   5.0             3.6  ...             0.2     Iris-setosa\n",
              "..                  ...             ...  ...             ...             ...\n",
              "145                 6.7             3.0  ...             2.3  Iris-virginica\n",
              "146                 6.3             2.5  ...             1.9  Iris-virginica\n",
              "147                 6.5             3.0  ...             2.0  Iris-virginica\n",
              "148                 6.2             3.4  ...             2.3  Iris-virginica\n",
              "149                 5.9             3.0  ...             1.8  Iris-virginica\n",
              "\n",
              "[150 rows x 5 columns]"
            ]
          },
          "metadata": {
            "tags": []
          },
          "execution_count": 69
        }
      ]
    },
    {
      "cell_type": "code",
      "metadata": {
        "id": "LBTty78kO9Yj",
        "colab_type": "code",
        "colab": {
          "base_uri": "https://localhost:8080/",
          "height": 206
        },
        "outputId": "6b6aa7a7-f8d4-45f6-fe51-cab4c44b9afa"
      },
      "source": [
        "# exibindo as primeiras linhas\n",
        "iris.head()"
      ],
      "execution_count": null,
      "outputs": [
        {
          "output_type": "execute_result",
          "data": {
            "text/html": [
              "<div>\n",
              "<style scoped>\n",
              "    .dataframe tbody tr th:only-of-type {\n",
              "        vertical-align: middle;\n",
              "    }\n",
              "\n",
              "    .dataframe tbody tr th {\n",
              "        vertical-align: top;\n",
              "    }\n",
              "\n",
              "    .dataframe thead th {\n",
              "        text-align: right;\n",
              "    }\n",
              "</style>\n",
              "<table border=\"1\" class=\"dataframe\">\n",
              "  <thead>\n",
              "    <tr style=\"text-align: right;\">\n",
              "      <th></th>\n",
              "      <th>comprimento_sepala</th>\n",
              "      <th>largura_sepala</th>\n",
              "      <th>comprimento_petala</th>\n",
              "      <th>largura_petala</th>\n",
              "      <th>especie</th>\n",
              "    </tr>\n",
              "  </thead>\n",
              "  <tbody>\n",
              "    <tr>\n",
              "      <th>0</th>\n",
              "      <td>5.1</td>\n",
              "      <td>3.5</td>\n",
              "      <td>1.4</td>\n",
              "      <td>0.2</td>\n",
              "      <td>Iris-setosa</td>\n",
              "    </tr>\n",
              "    <tr>\n",
              "      <th>1</th>\n",
              "      <td>4.9</td>\n",
              "      <td>3.0</td>\n",
              "      <td>1.4</td>\n",
              "      <td>0.2</td>\n",
              "      <td>Iris-setosa</td>\n",
              "    </tr>\n",
              "    <tr>\n",
              "      <th>2</th>\n",
              "      <td>4.7</td>\n",
              "      <td>3.2</td>\n",
              "      <td>1.3</td>\n",
              "      <td>0.2</td>\n",
              "      <td>Iris-setosa</td>\n",
              "    </tr>\n",
              "    <tr>\n",
              "      <th>3</th>\n",
              "      <td>4.6</td>\n",
              "      <td>3.1</td>\n",
              "      <td>1.5</td>\n",
              "      <td>0.2</td>\n",
              "      <td>Iris-setosa</td>\n",
              "    </tr>\n",
              "    <tr>\n",
              "      <th>4</th>\n",
              "      <td>5.0</td>\n",
              "      <td>3.6</td>\n",
              "      <td>1.4</td>\n",
              "      <td>0.2</td>\n",
              "      <td>Iris-setosa</td>\n",
              "    </tr>\n",
              "  </tbody>\n",
              "</table>\n",
              "</div>"
            ],
            "text/plain": [
              "   comprimento_sepala  largura_sepala  ...  largura_petala      especie\n",
              "0                 5.1             3.5  ...             0.2  Iris-setosa\n",
              "1                 4.9             3.0  ...             0.2  Iris-setosa\n",
              "2                 4.7             3.2  ...             0.2  Iris-setosa\n",
              "3                 4.6             3.1  ...             0.2  Iris-setosa\n",
              "4                 5.0             3.6  ...             0.2  Iris-setosa\n",
              "\n",
              "[5 rows x 5 columns]"
            ]
          },
          "metadata": {
            "tags": []
          },
          "execution_count": 35
        }
      ]
    },
    {
      "cell_type": "code",
      "metadata": {
        "id": "o1NLzANRPKjW",
        "colab_type": "code",
        "colab": {
          "base_uri": "https://localhost:8080/",
          "height": 80
        },
        "outputId": "6f6bf591-80d5-4306-dd28-419a89888ab3"
      },
      "source": [
        "# exibindo as últimas 3 linhas\n",
        "iris.tail(1)"
      ],
      "execution_count": null,
      "outputs": [
        {
          "output_type": "execute_result",
          "data": {
            "text/html": [
              "<div>\n",
              "<style scoped>\n",
              "    .dataframe tbody tr th:only-of-type {\n",
              "        vertical-align: middle;\n",
              "    }\n",
              "\n",
              "    .dataframe tbody tr th {\n",
              "        vertical-align: top;\n",
              "    }\n",
              "\n",
              "    .dataframe thead th {\n",
              "        text-align: right;\n",
              "    }\n",
              "</style>\n",
              "<table border=\"1\" class=\"dataframe\">\n",
              "  <thead>\n",
              "    <tr style=\"text-align: right;\">\n",
              "      <th></th>\n",
              "      <th>comprimento_sepala</th>\n",
              "      <th>largura_sepala</th>\n",
              "      <th>comprimento_petala</th>\n",
              "      <th>largura_petala</th>\n",
              "      <th>especie</th>\n",
              "    </tr>\n",
              "  </thead>\n",
              "  <tbody>\n",
              "    <tr>\n",
              "      <th>149</th>\n",
              "      <td>5.9</td>\n",
              "      <td>3.0</td>\n",
              "      <td>5.1</td>\n",
              "      <td>1.8</td>\n",
              "      <td>Iris-virginica</td>\n",
              "    </tr>\n",
              "  </tbody>\n",
              "</table>\n",
              "</div>"
            ],
            "text/plain": [
              "     comprimento_sepala  largura_sepala  ...  largura_petala         especie\n",
              "149                 5.9             3.0  ...             1.8  Iris-virginica\n",
              "\n",
              "[1 rows x 5 columns]"
            ]
          },
          "metadata": {
            "tags": []
          },
          "execution_count": 36
        }
      ]
    },
    {
      "cell_type": "code",
      "metadata": {
        "colab_type": "code",
        "id": "Hf1DO940lc63",
        "colab": {
          "base_uri": "https://localhost:8080/",
          "height": 73
        },
        "outputId": "4746a11f-9bb3-4166-a4af-27eb14c31bc8"
      },
      "source": [
        "# exibindo os nomes das colunas\n",
        "iris.columns"
      ],
      "execution_count": null,
      "outputs": [
        {
          "output_type": "execute_result",
          "data": {
            "text/plain": [
              "Index(['comprimento_sepala', 'largura_sepala', 'comprimento_petala',\n",
              "       'largura_petala', 'especie'],\n",
              "      dtype='object')"
            ]
          },
          "metadata": {
            "tags": []
          },
          "execution_count": 37
        }
      ]
    },
    {
      "cell_type": "code",
      "metadata": {
        "id": "yrFoAZskPfGH",
        "colab_type": "code",
        "colab": {
          "base_uri": "https://localhost:8080/",
          "height": 300
        },
        "outputId": "befe1251-fa16-4ec2-d633-1791fc9494fe"
      },
      "source": [
        "# exibindo um sumário estatístico\n",
        "iris.describe()"
      ],
      "execution_count": null,
      "outputs": [
        {
          "output_type": "execute_result",
          "data": {
            "text/html": [
              "<div>\n",
              "<style scoped>\n",
              "    .dataframe tbody tr th:only-of-type {\n",
              "        vertical-align: middle;\n",
              "    }\n",
              "\n",
              "    .dataframe tbody tr th {\n",
              "        vertical-align: top;\n",
              "    }\n",
              "\n",
              "    .dataframe thead th {\n",
              "        text-align: right;\n",
              "    }\n",
              "</style>\n",
              "<table border=\"1\" class=\"dataframe\">\n",
              "  <thead>\n",
              "    <tr style=\"text-align: right;\">\n",
              "      <th></th>\n",
              "      <th>comprimento_sepala</th>\n",
              "      <th>largura_sepala</th>\n",
              "      <th>comprimento_petala</th>\n",
              "      <th>largura_petala</th>\n",
              "    </tr>\n",
              "  </thead>\n",
              "  <tbody>\n",
              "    <tr>\n",
              "      <th>count</th>\n",
              "      <td>150.000000</td>\n",
              "      <td>150.000000</td>\n",
              "      <td>150.000000</td>\n",
              "      <td>150.000000</td>\n",
              "    </tr>\n",
              "    <tr>\n",
              "      <th>mean</th>\n",
              "      <td>5.843333</td>\n",
              "      <td>3.054000</td>\n",
              "      <td>3.758667</td>\n",
              "      <td>1.198667</td>\n",
              "    </tr>\n",
              "    <tr>\n",
              "      <th>std</th>\n",
              "      <td>0.828066</td>\n",
              "      <td>0.433594</td>\n",
              "      <td>1.764420</td>\n",
              "      <td>0.763161</td>\n",
              "    </tr>\n",
              "    <tr>\n",
              "      <th>min</th>\n",
              "      <td>4.300000</td>\n",
              "      <td>2.000000</td>\n",
              "      <td>1.000000</td>\n",
              "      <td>0.100000</td>\n",
              "    </tr>\n",
              "    <tr>\n",
              "      <th>25%</th>\n",
              "      <td>5.100000</td>\n",
              "      <td>2.800000</td>\n",
              "      <td>1.600000</td>\n",
              "      <td>0.300000</td>\n",
              "    </tr>\n",
              "    <tr>\n",
              "      <th>50%</th>\n",
              "      <td>5.800000</td>\n",
              "      <td>3.000000</td>\n",
              "      <td>4.350000</td>\n",
              "      <td>1.300000</td>\n",
              "    </tr>\n",
              "    <tr>\n",
              "      <th>75%</th>\n",
              "      <td>6.400000</td>\n",
              "      <td>3.300000</td>\n",
              "      <td>5.100000</td>\n",
              "      <td>1.800000</td>\n",
              "    </tr>\n",
              "    <tr>\n",
              "      <th>max</th>\n",
              "      <td>7.900000</td>\n",
              "      <td>4.400000</td>\n",
              "      <td>6.900000</td>\n",
              "      <td>2.500000</td>\n",
              "    </tr>\n",
              "  </tbody>\n",
              "</table>\n",
              "</div>"
            ],
            "text/plain": [
              "       comprimento_sepala  largura_sepala  comprimento_petala  largura_petala\n",
              "count          150.000000      150.000000          150.000000      150.000000\n",
              "mean             5.843333        3.054000            3.758667        1.198667\n",
              "std              0.828066        0.433594            1.764420        0.763161\n",
              "min              4.300000        2.000000            1.000000        0.100000\n",
              "25%              5.100000        2.800000            1.600000        0.300000\n",
              "50%              5.800000        3.000000            4.350000        1.300000\n",
              "75%              6.400000        3.300000            5.100000        1.800000\n",
              "max              7.900000        4.400000            6.900000        2.500000"
            ]
          },
          "metadata": {
            "tags": []
          },
          "execution_count": 38
        }
      ]
    },
    {
      "cell_type": "code",
      "metadata": {
        "id": "t_CREFDWPt2G",
        "colab_type": "code",
        "colab": {
          "base_uri": "https://localhost:8080/",
          "height": 423
        },
        "outputId": "60147a32-3b11-449b-a36b-84f5cef85b8b"
      },
      "source": [
        "# ordenando por uma coluna\n",
        "iris.sort_values(by='largura_sepala', ascending=False)"
      ],
      "execution_count": null,
      "outputs": [
        {
          "output_type": "execute_result",
          "data": {
            "text/html": [
              "<div>\n",
              "<style scoped>\n",
              "    .dataframe tbody tr th:only-of-type {\n",
              "        vertical-align: middle;\n",
              "    }\n",
              "\n",
              "    .dataframe tbody tr th {\n",
              "        vertical-align: top;\n",
              "    }\n",
              "\n",
              "    .dataframe thead th {\n",
              "        text-align: right;\n",
              "    }\n",
              "</style>\n",
              "<table border=\"1\" class=\"dataframe\">\n",
              "  <thead>\n",
              "    <tr style=\"text-align: right;\">\n",
              "      <th></th>\n",
              "      <th>comprimento_sepala</th>\n",
              "      <th>largura_sepala</th>\n",
              "      <th>comprimento_petala</th>\n",
              "      <th>largura_petala</th>\n",
              "      <th>especie</th>\n",
              "    </tr>\n",
              "  </thead>\n",
              "  <tbody>\n",
              "    <tr>\n",
              "      <th>15</th>\n",
              "      <td>5.7</td>\n",
              "      <td>4.4</td>\n",
              "      <td>1.5</td>\n",
              "      <td>0.4</td>\n",
              "      <td>Iris-setosa</td>\n",
              "    </tr>\n",
              "    <tr>\n",
              "      <th>33</th>\n",
              "      <td>5.5</td>\n",
              "      <td>4.2</td>\n",
              "      <td>1.4</td>\n",
              "      <td>0.2</td>\n",
              "      <td>Iris-setosa</td>\n",
              "    </tr>\n",
              "    <tr>\n",
              "      <th>32</th>\n",
              "      <td>5.2</td>\n",
              "      <td>4.1</td>\n",
              "      <td>1.5</td>\n",
              "      <td>0.1</td>\n",
              "      <td>Iris-setosa</td>\n",
              "    </tr>\n",
              "    <tr>\n",
              "      <th>14</th>\n",
              "      <td>5.8</td>\n",
              "      <td>4.0</td>\n",
              "      <td>1.2</td>\n",
              "      <td>0.2</td>\n",
              "      <td>Iris-setosa</td>\n",
              "    </tr>\n",
              "    <tr>\n",
              "      <th>16</th>\n",
              "      <td>5.4</td>\n",
              "      <td>3.9</td>\n",
              "      <td>1.3</td>\n",
              "      <td>0.4</td>\n",
              "      <td>Iris-setosa</td>\n",
              "    </tr>\n",
              "    <tr>\n",
              "      <th>...</th>\n",
              "      <td>...</td>\n",
              "      <td>...</td>\n",
              "      <td>...</td>\n",
              "      <td>...</td>\n",
              "      <td>...</td>\n",
              "    </tr>\n",
              "    <tr>\n",
              "      <th>87</th>\n",
              "      <td>6.3</td>\n",
              "      <td>2.3</td>\n",
              "      <td>4.4</td>\n",
              "      <td>1.3</td>\n",
              "      <td>Iris-versicolor</td>\n",
              "    </tr>\n",
              "    <tr>\n",
              "      <th>62</th>\n",
              "      <td>6.0</td>\n",
              "      <td>2.2</td>\n",
              "      <td>4.0</td>\n",
              "      <td>1.0</td>\n",
              "      <td>Iris-versicolor</td>\n",
              "    </tr>\n",
              "    <tr>\n",
              "      <th>68</th>\n",
              "      <td>6.2</td>\n",
              "      <td>2.2</td>\n",
              "      <td>4.5</td>\n",
              "      <td>1.5</td>\n",
              "      <td>Iris-versicolor</td>\n",
              "    </tr>\n",
              "    <tr>\n",
              "      <th>119</th>\n",
              "      <td>6.0</td>\n",
              "      <td>2.2</td>\n",
              "      <td>5.0</td>\n",
              "      <td>1.5</td>\n",
              "      <td>Iris-virginica</td>\n",
              "    </tr>\n",
              "    <tr>\n",
              "      <th>60</th>\n",
              "      <td>5.0</td>\n",
              "      <td>2.0</td>\n",
              "      <td>3.5</td>\n",
              "      <td>1.0</td>\n",
              "      <td>Iris-versicolor</td>\n",
              "    </tr>\n",
              "  </tbody>\n",
              "</table>\n",
              "<p>150 rows × 5 columns</p>\n",
              "</div>"
            ],
            "text/plain": [
              "     comprimento_sepala  largura_sepala  ...  largura_petala          especie\n",
              "15                  5.7             4.4  ...             0.4      Iris-setosa\n",
              "33                  5.5             4.2  ...             0.2      Iris-setosa\n",
              "32                  5.2             4.1  ...             0.1      Iris-setosa\n",
              "14                  5.8             4.0  ...             0.2      Iris-setosa\n",
              "16                  5.4             3.9  ...             0.4      Iris-setosa\n",
              "..                  ...             ...  ...             ...              ...\n",
              "87                  6.3             2.3  ...             1.3  Iris-versicolor\n",
              "62                  6.0             2.2  ...             1.0  Iris-versicolor\n",
              "68                  6.2             2.2  ...             1.5  Iris-versicolor\n",
              "119                 6.0             2.2  ...             1.5   Iris-virginica\n",
              "60                  5.0             2.0  ...             1.0  Iris-versicolor\n",
              "\n",
              "[150 rows x 5 columns]"
            ]
          },
          "metadata": {
            "tags": []
          },
          "execution_count": 39
        }
      ]
    },
    {
      "cell_type": "code",
      "metadata": {
        "id": "9-TmuHWqQXXZ",
        "colab_type": "code",
        "colab": {
          "base_uri": "https://localhost:8080/",
          "height": 241
        },
        "outputId": "fdd807d3-2939-4d1d-8cd1-40252db6a0e1"
      },
      "source": [
        "# selecionando uma coluna específica\n",
        "iris['largura_sepala']"
      ],
      "execution_count": null,
      "outputs": [
        {
          "output_type": "execute_result",
          "data": {
            "text/plain": [
              "0      3.5\n",
              "1      3.0\n",
              "2      3.2\n",
              "3      3.1\n",
              "4      3.6\n",
              "      ... \n",
              "145    3.0\n",
              "146    2.5\n",
              "147    3.0\n",
              "148    3.4\n",
              "149    3.0\n",
              "Name: largura_sepala, Length: 150, dtype: float64"
            ]
          },
          "metadata": {
            "tags": []
          },
          "execution_count": 40
        }
      ]
    },
    {
      "cell_type": "code",
      "metadata": {
        "id": "GaZYNKMURj9U",
        "colab_type": "code",
        "colab": {
          "base_uri": "https://localhost:8080/",
          "height": 423
        },
        "outputId": "bfd78aba-0f3f-4a21-869e-cfe93d53a05d"
      },
      "source": [
        "# selecionando um subconjunto de colunas\n",
        "iris.loc[:, ['largura_sepala', 'largura_petala', 'especie']]"
      ],
      "execution_count": null,
      "outputs": [
        {
          "output_type": "execute_result",
          "data": {
            "text/html": [
              "<div>\n",
              "<style scoped>\n",
              "    .dataframe tbody tr th:only-of-type {\n",
              "        vertical-align: middle;\n",
              "    }\n",
              "\n",
              "    .dataframe tbody tr th {\n",
              "        vertical-align: top;\n",
              "    }\n",
              "\n",
              "    .dataframe thead th {\n",
              "        text-align: right;\n",
              "    }\n",
              "</style>\n",
              "<table border=\"1\" class=\"dataframe\">\n",
              "  <thead>\n",
              "    <tr style=\"text-align: right;\">\n",
              "      <th></th>\n",
              "      <th>largura_sepala</th>\n",
              "      <th>largura_petala</th>\n",
              "      <th>especie</th>\n",
              "    </tr>\n",
              "  </thead>\n",
              "  <tbody>\n",
              "    <tr>\n",
              "      <th>0</th>\n",
              "      <td>3.5</td>\n",
              "      <td>0.2</td>\n",
              "      <td>Iris-setosa</td>\n",
              "    </tr>\n",
              "    <tr>\n",
              "      <th>1</th>\n",
              "      <td>3.0</td>\n",
              "      <td>0.2</td>\n",
              "      <td>Iris-setosa</td>\n",
              "    </tr>\n",
              "    <tr>\n",
              "      <th>2</th>\n",
              "      <td>3.2</td>\n",
              "      <td>0.2</td>\n",
              "      <td>Iris-setosa</td>\n",
              "    </tr>\n",
              "    <tr>\n",
              "      <th>3</th>\n",
              "      <td>3.1</td>\n",
              "      <td>0.2</td>\n",
              "      <td>Iris-setosa</td>\n",
              "    </tr>\n",
              "    <tr>\n",
              "      <th>4</th>\n",
              "      <td>3.6</td>\n",
              "      <td>0.2</td>\n",
              "      <td>Iris-setosa</td>\n",
              "    </tr>\n",
              "    <tr>\n",
              "      <th>...</th>\n",
              "      <td>...</td>\n",
              "      <td>...</td>\n",
              "      <td>...</td>\n",
              "    </tr>\n",
              "    <tr>\n",
              "      <th>145</th>\n",
              "      <td>3.0</td>\n",
              "      <td>2.3</td>\n",
              "      <td>Iris-virginica</td>\n",
              "    </tr>\n",
              "    <tr>\n",
              "      <th>146</th>\n",
              "      <td>2.5</td>\n",
              "      <td>1.9</td>\n",
              "      <td>Iris-virginica</td>\n",
              "    </tr>\n",
              "    <tr>\n",
              "      <th>147</th>\n",
              "      <td>3.0</td>\n",
              "      <td>2.0</td>\n",
              "      <td>Iris-virginica</td>\n",
              "    </tr>\n",
              "    <tr>\n",
              "      <th>148</th>\n",
              "      <td>3.4</td>\n",
              "      <td>2.3</td>\n",
              "      <td>Iris-virginica</td>\n",
              "    </tr>\n",
              "    <tr>\n",
              "      <th>149</th>\n",
              "      <td>3.0</td>\n",
              "      <td>1.8</td>\n",
              "      <td>Iris-virginica</td>\n",
              "    </tr>\n",
              "  </tbody>\n",
              "</table>\n",
              "<p>150 rows × 3 columns</p>\n",
              "</div>"
            ],
            "text/plain": [
              "     largura_sepala  largura_petala         especie\n",
              "0               3.5             0.2     Iris-setosa\n",
              "1               3.0             0.2     Iris-setosa\n",
              "2               3.2             0.2     Iris-setosa\n",
              "3               3.1             0.2     Iris-setosa\n",
              "4               3.6             0.2     Iris-setosa\n",
              "..              ...             ...             ...\n",
              "145             3.0             2.3  Iris-virginica\n",
              "146             2.5             1.9  Iris-virginica\n",
              "147             3.0             2.0  Iris-virginica\n",
              "148             3.4             2.3  Iris-virginica\n",
              "149             3.0             1.8  Iris-virginica\n",
              "\n",
              "[150 rows x 3 columns]"
            ]
          },
          "metadata": {
            "tags": []
          },
          "execution_count": 41
        }
      ]
    },
    {
      "cell_type": "code",
      "metadata": {
        "id": "6dQixnWVS7mo",
        "colab_type": "code",
        "colab": {
          "base_uri": "https://localhost:8080/",
          "height": 614
        },
        "outputId": "30a62132-46dc-4df6-c3b2-49d34e8d96ee"
      },
      "source": [
        "# selecionando linhas segundo um critério\n",
        "iris[iris['largura_sepala'] > 3.5]"
      ],
      "execution_count": null,
      "outputs": [
        {
          "output_type": "execute_result",
          "data": {
            "text/html": [
              "<div>\n",
              "<style scoped>\n",
              "    .dataframe tbody tr th:only-of-type {\n",
              "        vertical-align: middle;\n",
              "    }\n",
              "\n",
              "    .dataframe tbody tr th {\n",
              "        vertical-align: top;\n",
              "    }\n",
              "\n",
              "    .dataframe thead th {\n",
              "        text-align: right;\n",
              "    }\n",
              "</style>\n",
              "<table border=\"1\" class=\"dataframe\">\n",
              "  <thead>\n",
              "    <tr style=\"text-align: right;\">\n",
              "      <th></th>\n",
              "      <th>comprimento_sepala</th>\n",
              "      <th>largura_sepala</th>\n",
              "      <th>comprimento_petala</th>\n",
              "      <th>largura_petala</th>\n",
              "      <th>especie</th>\n",
              "    </tr>\n",
              "  </thead>\n",
              "  <tbody>\n",
              "    <tr>\n",
              "      <th>4</th>\n",
              "      <td>5.0</td>\n",
              "      <td>3.6</td>\n",
              "      <td>1.4</td>\n",
              "      <td>0.2</td>\n",
              "      <td>Iris-setosa</td>\n",
              "    </tr>\n",
              "    <tr>\n",
              "      <th>5</th>\n",
              "      <td>5.4</td>\n",
              "      <td>3.9</td>\n",
              "      <td>1.7</td>\n",
              "      <td>0.4</td>\n",
              "      <td>Iris-setosa</td>\n",
              "    </tr>\n",
              "    <tr>\n",
              "      <th>10</th>\n",
              "      <td>5.4</td>\n",
              "      <td>3.7</td>\n",
              "      <td>1.5</td>\n",
              "      <td>0.2</td>\n",
              "      <td>Iris-setosa</td>\n",
              "    </tr>\n",
              "    <tr>\n",
              "      <th>14</th>\n",
              "      <td>5.8</td>\n",
              "      <td>4.0</td>\n",
              "      <td>1.2</td>\n",
              "      <td>0.2</td>\n",
              "      <td>Iris-setosa</td>\n",
              "    </tr>\n",
              "    <tr>\n",
              "      <th>15</th>\n",
              "      <td>5.7</td>\n",
              "      <td>4.4</td>\n",
              "      <td>1.5</td>\n",
              "      <td>0.4</td>\n",
              "      <td>Iris-setosa</td>\n",
              "    </tr>\n",
              "    <tr>\n",
              "      <th>16</th>\n",
              "      <td>5.4</td>\n",
              "      <td>3.9</td>\n",
              "      <td>1.3</td>\n",
              "      <td>0.4</td>\n",
              "      <td>Iris-setosa</td>\n",
              "    </tr>\n",
              "    <tr>\n",
              "      <th>18</th>\n",
              "      <td>5.7</td>\n",
              "      <td>3.8</td>\n",
              "      <td>1.7</td>\n",
              "      <td>0.3</td>\n",
              "      <td>Iris-setosa</td>\n",
              "    </tr>\n",
              "    <tr>\n",
              "      <th>19</th>\n",
              "      <td>5.1</td>\n",
              "      <td>3.8</td>\n",
              "      <td>1.5</td>\n",
              "      <td>0.3</td>\n",
              "      <td>Iris-setosa</td>\n",
              "    </tr>\n",
              "    <tr>\n",
              "      <th>21</th>\n",
              "      <td>5.1</td>\n",
              "      <td>3.7</td>\n",
              "      <td>1.5</td>\n",
              "      <td>0.4</td>\n",
              "      <td>Iris-setosa</td>\n",
              "    </tr>\n",
              "    <tr>\n",
              "      <th>22</th>\n",
              "      <td>4.6</td>\n",
              "      <td>3.6</td>\n",
              "      <td>1.0</td>\n",
              "      <td>0.2</td>\n",
              "      <td>Iris-setosa</td>\n",
              "    </tr>\n",
              "    <tr>\n",
              "      <th>32</th>\n",
              "      <td>5.2</td>\n",
              "      <td>4.1</td>\n",
              "      <td>1.5</td>\n",
              "      <td>0.1</td>\n",
              "      <td>Iris-setosa</td>\n",
              "    </tr>\n",
              "    <tr>\n",
              "      <th>33</th>\n",
              "      <td>5.5</td>\n",
              "      <td>4.2</td>\n",
              "      <td>1.4</td>\n",
              "      <td>0.2</td>\n",
              "      <td>Iris-setosa</td>\n",
              "    </tr>\n",
              "    <tr>\n",
              "      <th>44</th>\n",
              "      <td>5.1</td>\n",
              "      <td>3.8</td>\n",
              "      <td>1.9</td>\n",
              "      <td>0.4</td>\n",
              "      <td>Iris-setosa</td>\n",
              "    </tr>\n",
              "    <tr>\n",
              "      <th>46</th>\n",
              "      <td>5.1</td>\n",
              "      <td>3.8</td>\n",
              "      <td>1.6</td>\n",
              "      <td>0.2</td>\n",
              "      <td>Iris-setosa</td>\n",
              "    </tr>\n",
              "    <tr>\n",
              "      <th>48</th>\n",
              "      <td>5.3</td>\n",
              "      <td>3.7</td>\n",
              "      <td>1.5</td>\n",
              "      <td>0.2</td>\n",
              "      <td>Iris-setosa</td>\n",
              "    </tr>\n",
              "    <tr>\n",
              "      <th>109</th>\n",
              "      <td>7.2</td>\n",
              "      <td>3.6</td>\n",
              "      <td>6.1</td>\n",
              "      <td>2.5</td>\n",
              "      <td>Iris-virginica</td>\n",
              "    </tr>\n",
              "    <tr>\n",
              "      <th>117</th>\n",
              "      <td>7.7</td>\n",
              "      <td>3.8</td>\n",
              "      <td>6.7</td>\n",
              "      <td>2.2</td>\n",
              "      <td>Iris-virginica</td>\n",
              "    </tr>\n",
              "    <tr>\n",
              "      <th>131</th>\n",
              "      <td>7.9</td>\n",
              "      <td>3.8</td>\n",
              "      <td>6.4</td>\n",
              "      <td>2.0</td>\n",
              "      <td>Iris-virginica</td>\n",
              "    </tr>\n",
              "  </tbody>\n",
              "</table>\n",
              "</div>"
            ],
            "text/plain": [
              "     comprimento_sepala  largura_sepala  ...  largura_petala         especie\n",
              "4                   5.0             3.6  ...             0.2     Iris-setosa\n",
              "5                   5.4             3.9  ...             0.4     Iris-setosa\n",
              "10                  5.4             3.7  ...             0.2     Iris-setosa\n",
              "14                  5.8             4.0  ...             0.2     Iris-setosa\n",
              "15                  5.7             4.4  ...             0.4     Iris-setosa\n",
              "16                  5.4             3.9  ...             0.4     Iris-setosa\n",
              "18                  5.7             3.8  ...             0.3     Iris-setosa\n",
              "19                  5.1             3.8  ...             0.3     Iris-setosa\n",
              "21                  5.1             3.7  ...             0.4     Iris-setosa\n",
              "22                  4.6             3.6  ...             0.2     Iris-setosa\n",
              "32                  5.2             4.1  ...             0.1     Iris-setosa\n",
              "33                  5.5             4.2  ...             0.2     Iris-setosa\n",
              "44                  5.1             3.8  ...             0.4     Iris-setosa\n",
              "46                  5.1             3.8  ...             0.2     Iris-setosa\n",
              "48                  5.3             3.7  ...             0.2     Iris-setosa\n",
              "109                 7.2             3.6  ...             2.5  Iris-virginica\n",
              "117                 7.7             3.8  ...             2.2  Iris-virginica\n",
              "131                 7.9             3.8  ...             2.0  Iris-virginica\n",
              "\n",
              "[18 rows x 5 columns]"
            ]
          },
          "metadata": {
            "tags": []
          },
          "execution_count": 42
        }
      ]
    },
    {
      "cell_type": "code",
      "metadata": {
        "id": "ug6GOHIAdHCe",
        "colab_type": "code",
        "colab": {
          "base_uri": "https://localhost:8080/",
          "height": 175
        },
        "outputId": "9f5e4099-7208-45c2-e7b7-660bb91c9f1f"
      },
      "source": [
        "# exibindo a média de cada atributo, agrupado por espécie\n",
        "iris.groupby('especie').mean()"
      ],
      "execution_count": null,
      "outputs": [
        {
          "output_type": "execute_result",
          "data": {
            "text/html": [
              "<div>\n",
              "<style scoped>\n",
              "    .dataframe tbody tr th:only-of-type {\n",
              "        vertical-align: middle;\n",
              "    }\n",
              "\n",
              "    .dataframe tbody tr th {\n",
              "        vertical-align: top;\n",
              "    }\n",
              "\n",
              "    .dataframe thead th {\n",
              "        text-align: right;\n",
              "    }\n",
              "</style>\n",
              "<table border=\"1\" class=\"dataframe\">\n",
              "  <thead>\n",
              "    <tr style=\"text-align: right;\">\n",
              "      <th></th>\n",
              "      <th>comprimento_sepala</th>\n",
              "      <th>largura_sepala</th>\n",
              "      <th>comprimento_petala</th>\n",
              "      <th>largura_petala</th>\n",
              "    </tr>\n",
              "    <tr>\n",
              "      <th>especie</th>\n",
              "      <th></th>\n",
              "      <th></th>\n",
              "      <th></th>\n",
              "      <th></th>\n",
              "    </tr>\n",
              "  </thead>\n",
              "  <tbody>\n",
              "    <tr>\n",
              "      <th>Iris-setosa</th>\n",
              "      <td>5.006</td>\n",
              "      <td>3.418</td>\n",
              "      <td>1.464</td>\n",
              "      <td>0.244</td>\n",
              "    </tr>\n",
              "    <tr>\n",
              "      <th>Iris-versicolor</th>\n",
              "      <td>5.936</td>\n",
              "      <td>2.770</td>\n",
              "      <td>4.260</td>\n",
              "      <td>1.326</td>\n",
              "    </tr>\n",
              "    <tr>\n",
              "      <th>Iris-virginica</th>\n",
              "      <td>6.588</td>\n",
              "      <td>2.974</td>\n",
              "      <td>5.552</td>\n",
              "      <td>2.026</td>\n",
              "    </tr>\n",
              "  </tbody>\n",
              "</table>\n",
              "</div>"
            ],
            "text/plain": [
              "                 comprimento_sepala  ...  largura_petala\n",
              "especie                              ...                \n",
              "Iris-setosa                   5.006  ...           0.244\n",
              "Iris-versicolor               5.936  ...           1.326\n",
              "Iris-virginica                6.588  ...           2.026\n",
              "\n",
              "[3 rows x 4 columns]"
            ]
          },
          "metadata": {
            "tags": []
          },
          "execution_count": 43
        }
      ]
    },
    {
      "cell_type": "markdown",
      "metadata": {
        "id": "XBRAG-Nq-eJa",
        "colab_type": "text"
      },
      "source": [
        "# Regressão linear\n",
        "https://www.ime.usp.br/~fmachado/MAE229/AULA10.pdf\n",
        "slide 15\n",
        "## Para que serve?\n",
        "* É um método para estimar o valor de determinada variável (alvo), dados os valores de outras variáveis (chamadas de preditoras ou explicativas).\n",
        "* Para facilitar a visualização será utilizada uma única variável explicativa (atributo ou *feature*) da base de dados.\n",
        "\n",
        "## Como funciona: \n",
        "* No exemplo a seguir, será utilizado o dataset \"Diabetes\", que consiste na medição de diversos atributos de um grupo de indivíduos testados para diabetes.\n",
        "* A tabela possui 9 atributos numéricos utilizados para predizer o nível de glicose no sangue.\n",
        "* O modelo será treinado para calcular uma equação que faça as predições de forma a minimizar a soma dos quadrados das diferenças entre o valor encontrado pela equação e o valor real das observações.\n"
      ]
    },
    {
      "cell_type": "code",
      "metadata": {
        "id": "kM1gbZUhkG1M",
        "colab_type": "code",
        "cellView": "code",
        "colab": {}
      },
      "source": [
        "# Importação do código\n",
        "import matplotlib.pyplot as plt\n",
        "import numpy as np\n",
        "from sklearn import datasets, linear_model\n",
        "from sklearn.metrics import mean_squared_error, r2_score"
      ],
      "execution_count": null,
      "outputs": []
    },
    {
      "cell_type": "code",
      "metadata": {
        "id": "6NsB2_QRovtH",
        "colab_type": "code",
        "colab": {
          "base_uri": "https://localhost:8080/",
          "height": 886
        },
        "outputId": "beb6a843-410e-4001-8fed-de15e720f5b6"
      },
      "source": [
        "# Carregamento do dataset e separação das variáveis preditoras e alvo.\n",
        "diabetes_X, diabetes_y = datasets.load_diabetes(return_X_y=True)\n",
        "\n",
        "# visualização dos datasets:\n",
        "print('variaveis explicativas')\n",
        "display(pd.DataFrame(diabetes_X))\n",
        "print('\\nVariável alvo')\n",
        "display(pd.DataFrame(diabetes_y))"
      ],
      "execution_count": null,
      "outputs": [
        {
          "output_type": "stream",
          "text": [
            "variaveis explicativas\n"
          ],
          "name": "stdout"
        },
        {
          "output_type": "display_data",
          "data": {
            "text/html": [
              "<div>\n",
              "<style scoped>\n",
              "    .dataframe tbody tr th:only-of-type {\n",
              "        vertical-align: middle;\n",
              "    }\n",
              "\n",
              "    .dataframe tbody tr th {\n",
              "        vertical-align: top;\n",
              "    }\n",
              "\n",
              "    .dataframe thead th {\n",
              "        text-align: right;\n",
              "    }\n",
              "</style>\n",
              "<table border=\"1\" class=\"dataframe\">\n",
              "  <thead>\n",
              "    <tr style=\"text-align: right;\">\n",
              "      <th></th>\n",
              "      <th>0</th>\n",
              "      <th>1</th>\n",
              "      <th>2</th>\n",
              "      <th>3</th>\n",
              "      <th>4</th>\n",
              "      <th>5</th>\n",
              "      <th>6</th>\n",
              "      <th>7</th>\n",
              "      <th>8</th>\n",
              "      <th>9</th>\n",
              "    </tr>\n",
              "  </thead>\n",
              "  <tbody>\n",
              "    <tr>\n",
              "      <th>0</th>\n",
              "      <td>0.038076</td>\n",
              "      <td>0.050680</td>\n",
              "      <td>0.061696</td>\n",
              "      <td>0.021872</td>\n",
              "      <td>-0.044223</td>\n",
              "      <td>-0.034821</td>\n",
              "      <td>-0.043401</td>\n",
              "      <td>-0.002592</td>\n",
              "      <td>0.019908</td>\n",
              "      <td>-0.017646</td>\n",
              "    </tr>\n",
              "    <tr>\n",
              "      <th>1</th>\n",
              "      <td>-0.001882</td>\n",
              "      <td>-0.044642</td>\n",
              "      <td>-0.051474</td>\n",
              "      <td>-0.026328</td>\n",
              "      <td>-0.008449</td>\n",
              "      <td>-0.019163</td>\n",
              "      <td>0.074412</td>\n",
              "      <td>-0.039493</td>\n",
              "      <td>-0.068330</td>\n",
              "      <td>-0.092204</td>\n",
              "    </tr>\n",
              "    <tr>\n",
              "      <th>2</th>\n",
              "      <td>0.085299</td>\n",
              "      <td>0.050680</td>\n",
              "      <td>0.044451</td>\n",
              "      <td>-0.005671</td>\n",
              "      <td>-0.045599</td>\n",
              "      <td>-0.034194</td>\n",
              "      <td>-0.032356</td>\n",
              "      <td>-0.002592</td>\n",
              "      <td>0.002864</td>\n",
              "      <td>-0.025930</td>\n",
              "    </tr>\n",
              "    <tr>\n",
              "      <th>3</th>\n",
              "      <td>-0.089063</td>\n",
              "      <td>-0.044642</td>\n",
              "      <td>-0.011595</td>\n",
              "      <td>-0.036656</td>\n",
              "      <td>0.012191</td>\n",
              "      <td>0.024991</td>\n",
              "      <td>-0.036038</td>\n",
              "      <td>0.034309</td>\n",
              "      <td>0.022692</td>\n",
              "      <td>-0.009362</td>\n",
              "    </tr>\n",
              "    <tr>\n",
              "      <th>4</th>\n",
              "      <td>0.005383</td>\n",
              "      <td>-0.044642</td>\n",
              "      <td>-0.036385</td>\n",
              "      <td>0.021872</td>\n",
              "      <td>0.003935</td>\n",
              "      <td>0.015596</td>\n",
              "      <td>0.008142</td>\n",
              "      <td>-0.002592</td>\n",
              "      <td>-0.031991</td>\n",
              "      <td>-0.046641</td>\n",
              "    </tr>\n",
              "    <tr>\n",
              "      <th>...</th>\n",
              "      <td>...</td>\n",
              "      <td>...</td>\n",
              "      <td>...</td>\n",
              "      <td>...</td>\n",
              "      <td>...</td>\n",
              "      <td>...</td>\n",
              "      <td>...</td>\n",
              "      <td>...</td>\n",
              "      <td>...</td>\n",
              "      <td>...</td>\n",
              "    </tr>\n",
              "    <tr>\n",
              "      <th>437</th>\n",
              "      <td>0.041708</td>\n",
              "      <td>0.050680</td>\n",
              "      <td>0.019662</td>\n",
              "      <td>0.059744</td>\n",
              "      <td>-0.005697</td>\n",
              "      <td>-0.002566</td>\n",
              "      <td>-0.028674</td>\n",
              "      <td>-0.002592</td>\n",
              "      <td>0.031193</td>\n",
              "      <td>0.007207</td>\n",
              "    </tr>\n",
              "    <tr>\n",
              "      <th>438</th>\n",
              "      <td>-0.005515</td>\n",
              "      <td>0.050680</td>\n",
              "      <td>-0.015906</td>\n",
              "      <td>-0.067642</td>\n",
              "      <td>0.049341</td>\n",
              "      <td>0.079165</td>\n",
              "      <td>-0.028674</td>\n",
              "      <td>0.034309</td>\n",
              "      <td>-0.018118</td>\n",
              "      <td>0.044485</td>\n",
              "    </tr>\n",
              "    <tr>\n",
              "      <th>439</th>\n",
              "      <td>0.041708</td>\n",
              "      <td>0.050680</td>\n",
              "      <td>-0.015906</td>\n",
              "      <td>0.017282</td>\n",
              "      <td>-0.037344</td>\n",
              "      <td>-0.013840</td>\n",
              "      <td>-0.024993</td>\n",
              "      <td>-0.011080</td>\n",
              "      <td>-0.046879</td>\n",
              "      <td>0.015491</td>\n",
              "    </tr>\n",
              "    <tr>\n",
              "      <th>440</th>\n",
              "      <td>-0.045472</td>\n",
              "      <td>-0.044642</td>\n",
              "      <td>0.039062</td>\n",
              "      <td>0.001215</td>\n",
              "      <td>0.016318</td>\n",
              "      <td>0.015283</td>\n",
              "      <td>-0.028674</td>\n",
              "      <td>0.026560</td>\n",
              "      <td>0.044528</td>\n",
              "      <td>-0.025930</td>\n",
              "    </tr>\n",
              "    <tr>\n",
              "      <th>441</th>\n",
              "      <td>-0.045472</td>\n",
              "      <td>-0.044642</td>\n",
              "      <td>-0.073030</td>\n",
              "      <td>-0.081414</td>\n",
              "      <td>0.083740</td>\n",
              "      <td>0.027809</td>\n",
              "      <td>0.173816</td>\n",
              "      <td>-0.039493</td>\n",
              "      <td>-0.004220</td>\n",
              "      <td>0.003064</td>\n",
              "    </tr>\n",
              "  </tbody>\n",
              "</table>\n",
              "<p>442 rows × 10 columns</p>\n",
              "</div>"
            ],
            "text/plain": [
              "            0         1         2  ...         7         8         9\n",
              "0    0.038076  0.050680  0.061696  ... -0.002592  0.019908 -0.017646\n",
              "1   -0.001882 -0.044642 -0.051474  ... -0.039493 -0.068330 -0.092204\n",
              "2    0.085299  0.050680  0.044451  ... -0.002592  0.002864 -0.025930\n",
              "3   -0.089063 -0.044642 -0.011595  ...  0.034309  0.022692 -0.009362\n",
              "4    0.005383 -0.044642 -0.036385  ... -0.002592 -0.031991 -0.046641\n",
              "..        ...       ...       ...  ...       ...       ...       ...\n",
              "437  0.041708  0.050680  0.019662  ... -0.002592  0.031193  0.007207\n",
              "438 -0.005515  0.050680 -0.015906  ...  0.034309 -0.018118  0.044485\n",
              "439  0.041708  0.050680 -0.015906  ... -0.011080 -0.046879  0.015491\n",
              "440 -0.045472 -0.044642  0.039062  ...  0.026560  0.044528 -0.025930\n",
              "441 -0.045472 -0.044642 -0.073030  ... -0.039493 -0.004220  0.003064\n",
              "\n",
              "[442 rows x 10 columns]"
            ]
          },
          "metadata": {
            "tags": []
          }
        },
        {
          "output_type": "stream",
          "text": [
            "\n",
            "Variável alvo\n"
          ],
          "name": "stdout"
        },
        {
          "output_type": "display_data",
          "data": {
            "text/html": [
              "<div>\n",
              "<style scoped>\n",
              "    .dataframe tbody tr th:only-of-type {\n",
              "        vertical-align: middle;\n",
              "    }\n",
              "\n",
              "    .dataframe tbody tr th {\n",
              "        vertical-align: top;\n",
              "    }\n",
              "\n",
              "    .dataframe thead th {\n",
              "        text-align: right;\n",
              "    }\n",
              "</style>\n",
              "<table border=\"1\" class=\"dataframe\">\n",
              "  <thead>\n",
              "    <tr style=\"text-align: right;\">\n",
              "      <th></th>\n",
              "      <th>0</th>\n",
              "    </tr>\n",
              "  </thead>\n",
              "  <tbody>\n",
              "    <tr>\n",
              "      <th>0</th>\n",
              "      <td>151.0</td>\n",
              "    </tr>\n",
              "    <tr>\n",
              "      <th>1</th>\n",
              "      <td>75.0</td>\n",
              "    </tr>\n",
              "    <tr>\n",
              "      <th>2</th>\n",
              "      <td>141.0</td>\n",
              "    </tr>\n",
              "    <tr>\n",
              "      <th>3</th>\n",
              "      <td>206.0</td>\n",
              "    </tr>\n",
              "    <tr>\n",
              "      <th>4</th>\n",
              "      <td>135.0</td>\n",
              "    </tr>\n",
              "    <tr>\n",
              "      <th>...</th>\n",
              "      <td>...</td>\n",
              "    </tr>\n",
              "    <tr>\n",
              "      <th>437</th>\n",
              "      <td>178.0</td>\n",
              "    </tr>\n",
              "    <tr>\n",
              "      <th>438</th>\n",
              "      <td>104.0</td>\n",
              "    </tr>\n",
              "    <tr>\n",
              "      <th>439</th>\n",
              "      <td>132.0</td>\n",
              "    </tr>\n",
              "    <tr>\n",
              "      <th>440</th>\n",
              "      <td>220.0</td>\n",
              "    </tr>\n",
              "    <tr>\n",
              "      <th>441</th>\n",
              "      <td>57.0</td>\n",
              "    </tr>\n",
              "  </tbody>\n",
              "</table>\n",
              "<p>442 rows × 1 columns</p>\n",
              "</div>"
            ],
            "text/plain": [
              "         0\n",
              "0    151.0\n",
              "1     75.0\n",
              "2    141.0\n",
              "3    206.0\n",
              "4    135.0\n",
              "..     ...\n",
              "437  178.0\n",
              "438  104.0\n",
              "439  132.0\n",
              "440  220.0\n",
              "441   57.0\n",
              "\n",
              "[442 rows x 1 columns]"
            ]
          },
          "metadata": {
            "tags": []
          }
        }
      ]
    },
    {
      "cell_type": "code",
      "metadata": {
        "id": "dc0qBCaPsHlL",
        "colab_type": "code",
        "colab": {}
      },
      "source": [
        "# Utilizar apenas um atributo (coluna) para calcular a regressão linear\n",
        "diabetes_X = diabetes_X[:, np.newaxis, 2]"
      ],
      "execution_count": null,
      "outputs": []
    },
    {
      "cell_type": "code",
      "metadata": {
        "id": "26sqqfBLrDkv",
        "colab_type": "code",
        "colab": {}
      },
      "source": [
        "# Separa a base de dados em porções para treinamento e teste\n",
        "diabetes_X_train = diabetes_X[:-20]\n",
        "diabetes_X_test = diabetes_X[-20:]\n"
      ],
      "execution_count": null,
      "outputs": []
    },
    {
      "cell_type": "code",
      "metadata": {
        "id": "lkXC-de9rO0y",
        "colab_type": "code",
        "colab": {}
      },
      "source": [
        "# Separa as variáveis alvo em treinamento e teste\n",
        "diabetes_y_train = diabetes_y[:-20]\n",
        "diabetes_y_test = diabetes_y[-20:]"
      ],
      "execution_count": null,
      "outputs": []
    },
    {
      "cell_type": "code",
      "metadata": {
        "id": "t-nNrVJGrRdO",
        "colab_type": "code",
        "colab": {}
      },
      "source": [
        "# Cria um objeto da classe responsável por treinar o modelo de regressão linear\n",
        "regr = linear_model.LinearRegression()"
      ],
      "execution_count": null,
      "outputs": []
    },
    {
      "cell_type": "code",
      "metadata": {
        "id": "zU1IeqivrTKT",
        "colab_type": "code",
        "colab": {
          "base_uri": "https://localhost:8080/",
          "height": 36
        },
        "outputId": "d9fd36fa-f9c8-47fd-b791-ee3957a8cfdc"
      },
      "source": [
        "# Treina o modelo (objeto) utilizando o conjunto de treinamento.\n",
        "regr.fit(diabetes_X_train, diabetes_y_train)"
      ],
      "execution_count": null,
      "outputs": [
        {
          "output_type": "execute_result",
          "data": {
            "text/plain": [
              "LinearRegression(copy_X=True, fit_intercept=True, n_jobs=None, normalize=False)"
            ]
          },
          "metadata": {
            "tags": []
          },
          "execution_count": 50
        }
      ]
    },
    {
      "cell_type": "code",
      "metadata": {
        "id": "xGfRYlNSrUee",
        "colab_type": "code",
        "colab": {}
      },
      "source": [
        "# Faz as precições utilizando o conjunto de teste\n",
        "diabetes_y_pred = regr.predict(diabetes_X_test)"
      ],
      "execution_count": null,
      "outputs": []
    },
    {
      "cell_type": "code",
      "metadata": {
        "id": "N2fgzKG4rV4G",
        "colab_type": "code",
        "colab": {
          "base_uri": "https://localhost:8080/",
          "height": 92
        },
        "outputId": "204c4cf9-85b9-4e13-b1ad-7fd4f4551346"
      },
      "source": [
        "# Coeficiente da Equação encontrada\n",
        "coeficiente = regr.coef_[0]\n",
        "print('Coeficiente: \\n', coeficiente)\n",
        "\n",
        "# Erro Quadrático Médio\n",
        "erro = mean_squared_error(diabetes_y_test, diabetes_y_pred)\n",
        "print('Erro Quadrático Médio: %.2f' % erro)\n",
        "\n",
        "# Coeficiente de determinação: expressa a quantidade de variância da variável y que é explicada por x.\n",
        "# 1 significa que o modelo é perfeito.\n",
        "coef_determinacao = r2_score(diabetes_y_test, diabetes_y_pred)\n",
        "print('Coeficiente de determinação: %.2f' % coef_determinacao)"
      ],
      "execution_count": null,
      "outputs": [
        {
          "output_type": "stream",
          "text": [
            "Coeficiente: \n",
            " 938.2378612512637\n",
            "Erro Quadrático Médio: 2548.07\n",
            "Coeficiente de determinação: 0.47\n"
          ],
          "name": "stdout"
        }
      ]
    },
    {
      "cell_type": "code",
      "metadata": {
        "id": "ffcLX3XzrX7V",
        "colab_type": "code",
        "colab": {
          "base_uri": "https://localhost:8080/",
          "height": 252
        },
        "outputId": "1f06f8d6-fc95-4f1d-952d-c1c9b1c0aa22"
      },
      "source": [
        "# Plotagem dos resultados obtidos\n",
        "plt.scatter(x = diabetes_X_test, y = diabetes_y_test,  color='black')\n",
        "plt.plot(diabetes_X_test, diabetes_y_pred, color='blue', linewidth=3)\n",
        "\n",
        "plt.xticks(())\n",
        "plt.yticks(())\n",
        "\n",
        "plt.show()"
      ],
      "execution_count": null,
      "outputs": [
        {
          "output_type": "display_data",
          "data": {
            "image/png": "[encoded data removed]",
            "text/plain": [
              "<Figure size 432x288 with 1 Axes>"
            ]
          },
          "metadata": {
            "tags": []
          }
        }
      ]
    },
    {
      "cell_type": "markdown",
      "metadata": {
        "id": "WKbVpc19gHdb",
        "colab_type": "text"
      },
      "source": [
        "# Teste do Qui quadrado\n",
        "\n",
        "## Para que serve?\n",
        "* É um teste para verificar se duas variáveis categóricas estão relacionadas, levando em conta um nível de confiança.\n",
        "\n",
        "## Como funciona:\n",
        "* No exemplo a seguir, utilizaremos uma base de dados sobre um tratamento experimental para determinada doença.\n",
        "* Somando todos os indivíduos, teremos uma contagem de curados e não curados.\n",
        "* Separamos os indivíduos em 2 grupos (respeitando algumas premissas do teste): \n",
        " tratados com a droga e grupo de controle.\n",
        "* O teste será realizado com base nas quantidades de indivíduos que se recuperaram da doença nos dois grupos, comparadas com a contagem geral.\n",
        "* Dado um nível de confiança (no nosso caso, 95%), diremos que a relação entre uso da droga e recuperação da doença é significativa se o P-valor for menor que 0,05 (1 - 95%).\n",
        "\n",
        "## Hipóteses:\n",
        "* Hipótese nula: O uso do medicamento não tem relação com a cura da doença\n",
        "* Hipótese alternativa: O uso do medicamento está relacionado à cura da doença\n",
        "* p-valor < 0.05 rejeita a hipótese nula"
      ]
    },
    {
      "cell_type": "code",
      "metadata": {
        "id": "uUyO6lOw6_cK",
        "colab_type": "code",
        "cellView": "code",
        "colab": {}
      },
      "source": [
        "\n",
        "# Em python, utilizamos o nome dataframe\n",
        "data_frame = pd.read_csv('https://reneshbedre.github.io/assets/posts/chisq/drugdata.csv', index_col=0)"
      ],
      "execution_count": null,
      "outputs": []
    },
    {
      "cell_type": "code",
      "metadata": {
        "id": "DcPZ1SMNOXF5",
        "colab_type": "code",
        "colab": {
          "base_uri": "https://localhost:8080/",
          "height": 143
        },
        "outputId": "b982d691-1f7e-4fe8-fb23-ffa89db13e0a"
      },
      "source": [
        "# visualizando a base de dados\n",
        "data_frame"
      ],
      "execution_count": null,
      "outputs": [
        {
          "output_type": "execute_result",
          "data": {
            "text/html": [
              "<div>\n",
              "<style scoped>\n",
              "    .dataframe tbody tr th:only-of-type {\n",
              "        vertical-align: middle;\n",
              "    }\n",
              "\n",
              "    .dataframe tbody tr th {\n",
              "        vertical-align: top;\n",
              "    }\n",
              "\n",
              "    .dataframe thead th {\n",
              "        text-align: right;\n",
              "    }\n",
              "</style>\n",
              "<table border=\"1\" class=\"dataframe\">\n",
              "  <thead>\n",
              "    <tr style=\"text-align: right;\">\n",
              "      <th></th>\n",
              "      <th>cured</th>\n",
              "      <th>noncured</th>\n",
              "    </tr>\n",
              "    <tr>\n",
              "      <th>treatments</th>\n",
              "      <th></th>\n",
              "      <th></th>\n",
              "    </tr>\n",
              "  </thead>\n",
              "  <tbody>\n",
              "    <tr>\n",
              "      <th>treated</th>\n",
              "      <td>60</td>\n",
              "      <td>10</td>\n",
              "    </tr>\n",
              "    <tr>\n",
              "      <th>nontreated</th>\n",
              "      <td>30</td>\n",
              "      <td>25</td>\n",
              "    </tr>\n",
              "  </tbody>\n",
              "</table>\n",
              "</div>"
            ],
            "text/plain": [
              "            cured  noncured\n",
              "treatments                 \n",
              "treated        60        10\n",
              "nontreated     30        25"
            ]
          },
          "metadata": {
            "tags": []
          },
          "execution_count": 55
        }
      ]
    },
    {
      "cell_type": "code",
      "metadata": {
        "id": "pvEOOFOybO35",
        "colab_type": "code",
        "colab": {}
      },
      "source": [
        "# importando o código necessário para o teste de qui quadrado.\n",
        "from scipy.stats import chi2_contingency"
      ],
      "execution_count": null,
      "outputs": []
    },
    {
      "cell_type": "code",
      "metadata": {
        "id": "fglVQliFbPIv",
        "colab_type": "code",
        "colab": {
          "base_uri": "https://localhost:8080/",
          "height": 298
        },
        "outputId": "e8a26a13-fd33-48da-c807-f8e28b3e07e0"
      },
      "source": [
        "chi2_stat, p_val, dof, ex = chi2_contingency(data_frame)\n",
        "print(\"===Qui quadrado===\")\n",
        "print(chi2_stat)\n",
        "print(\"\\n\")\n",
        "print(\"===Graus de liberdade===\")\n",
        "print(dof)\n",
        "print(\"\\n\")\n",
        "print(\"===P-Valor===\")\n",
        "print(p_val)\n",
        "print(\"\\n\")\n",
        "print(\"===Tabela de contingência===\")\n",
        "print(ex)"
      ],
      "execution_count": null,
      "outputs": [
        {
          "output_type": "stream",
          "text": [
            "===Qui quadrado===\n",
            "13.3364898989899\n",
            "\n",
            "\n",
            "===Graus de liberdade===\n",
            "1\n",
            "\n",
            "\n",
            "===P-Valor===\n",
            "0.0002602911116400899\n",
            "\n",
            "\n",
            "===Tabela de contingência===\n",
            "[[50.4 19.6]\n",
            " [39.6 15.4]]\n"
          ],
          "name": "stdout"
        }
      ]
    },
    {
      "cell_type": "markdown",
      "metadata": {
        "id": "8_kIUTCsXqWv",
        "colab_type": "text"
      },
      "source": [
        "# Fontes:\n",
        "***Disciplina de Machine Learning da Especialização em Ciência de Dados da PUC***\n",
        "\n",
        "***professora Tatiana Escovedo (PhD)  \n",
        "linkedin:*** \n",
        "https://www.linkedin.com/in/tatiana-escovedo/\n",
        "\n",
        "\"Learn Python in 5 minutes\", disponível em:\n",
        "https://medium.com/@peterjaberau/learn-python-in-5-minutes-b10bf6e2cdb9\n",
        "\n",
        "\"Chi-square test in Python\", disponível em: \n",
        "https://reneshbedre.github.io/blog/chisq.html\n",
        " \n",
        "\"Running Chi-Square Tests with Die Roll Data in Python\", disponível em: https://towardsdatascience.com/running-chi-square-tests-in-python-with-die-roll-data-b9903817c51b\n",
        "\n",
        "---\n",
        "\n",
        "# Cursos recomendados:\n",
        "* Python- fundamentos (gratuito): https://www.datascienceacademy.com.br/course?courseid=python-fundamentos\n",
        "* Alura cursos online: https://cursos.alura.com.br/\n",
        "* Documentação oficial da linguagem (gratuito): https://docs.python.org/3/tutorial/\n",
        "* Documentação em português(gratuito): https://docs.python.org/pt-br/3/tutorial/index.html\n",
        "---\n",
        "\n",
        "# Outros links interessantes:\n",
        "* https://github.com/PizzaDeDados/datascience-pizza\n",
        "* https://medium.com/trainingcenter/aprendendo-python-do-zero-b9a13d8646b3\n",
        "* https://docs.python.org/3/tutorial/index.html\n",
        "* https://www.w3schools.com/python/default.asp\n",
        "\n",
        "---\n",
        "\n",
        "# JORNADA COLABORATIVA\n",
        "https://summitsonline.jornadacolaborativa.com.br/\n"
      ]
    }
  ]
}